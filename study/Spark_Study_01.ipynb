{
  "nbformat": 4,
  "nbformat_minor": 0,
  "metadata": {
    "colab": {
      "name": "Spark_Study_01.ipynb",
      "provenance": [],
      "collapsed_sections": [],
      "toc_visible": true,
      "authorship_tag": "ABX9TyMQX5vmkPFZp3/JXXk4auRB",
      "include_colab_link": true
    },
    "kernelspec": {
      "name": "python3",
      "display_name": "Python 3"
    },
    "language_info": {
      "name": "python"
    }
  },
  "cells": [
    {
      "cell_type": "markdown",
      "metadata": {
        "id": "view-in-github",
        "colab_type": "text"
      },
      "source": [
        "<a href=\"https://colab.research.google.com/github/leadbreak/spark/blob/main/study/Spark_Study_01.ipynb\" target=\"_parent\"><img src=\"https://colab.research.google.com/assets/colab-badge.svg\" alt=\"Open In Colab\"/></a>"
      ]
    },
    {
      "cell_type": "code",
      "metadata": {
        "id": "h4uFqzRz_sy2"
      },
      "source": [
        "! mkdir -p data"
      ],
      "execution_count": null,
      "outputs": []
    },
    {
      "cell_type": "code",
      "metadata": {
        "colab": {
          "base_uri": "https://localhost:8080/"
        },
        "id": "e9Hmow9H_zdK",
        "outputId": "0fc3861f-e6d4-40ba-86a5-4486d6bf2749"
      },
      "source": [
        "! wget https://archive.ics.uci.edu/ml/machine-learning-databases/20newsgroups-mld/mini_newsgroups.tar.gz"
      ],
      "execution_count": null,
      "outputs": [
        {
          "output_type": "stream",
          "name": "stdout",
          "text": [
            "--2021-09-08 06:01:35--  https://archive.ics.uci.edu/ml/machine-learning-databases/20newsgroups-mld/mini_newsgroups.tar.gz\n",
            "Resolving archive.ics.uci.edu (archive.ics.uci.edu)... 128.195.10.252\n",
            "Connecting to archive.ics.uci.edu (archive.ics.uci.edu)|128.195.10.252|:443... connected.\n",
            "HTTP request sent, awaiting response... 200 OK\n",
            "Length: 1860687 (1.8M) [application/x-httpd-php]\n",
            "Saving to: ‘mini_newsgroups.tar.gz’\n",
            "\n",
            "mini_newsgroups.tar 100%[===================>]   1.77M  4.96MB/s    in 0.4s    \n",
            "\n",
            "2021-09-08 06:01:36 (4.96 MB/s) - ‘mini_newsgroups.tar.gz’ saved [1860687/1860687]\n",
            "\n"
          ]
        }
      ]
    },
    {
      "cell_type": "code",
      "metadata": {
        "id": "punDKqg1_1K6"
      },
      "source": [
        "! tar xzf mini_newsgroups.tar.gz -C ./data/"
      ],
      "execution_count": null,
      "outputs": []
    },
    {
      "cell_type": "code",
      "metadata": {
        "colab": {
          "base_uri": "https://localhost:8080/"
        },
        "id": "-QcNx7CM_2gi",
        "outputId": "94ce68bf-e2e8-4303-ffac-30f7729110c2"
      },
      "source": [
        "! ls ./data/mini_newsgroups/"
      ],
      "execution_count": null,
      "outputs": [
        {
          "output_type": "stream",
          "name": "stdout",
          "text": [
            "alt.atheism\t\t  rec.autos\t      sci.space\n",
            "comp.graphics\t\t  rec.motorcycles     soc.religion.christian\n",
            "comp.os.ms-windows.misc   rec.sport.baseball  talk.politics.guns\n",
            "comp.sys.ibm.pc.hardware  rec.sport.hockey    talk.politics.mideast\n",
            "comp.sys.mac.hardware\t  sci.crypt\t      talk.politics.misc\n",
            "comp.windows.x\t\t  sci.electronics     talk.religion.misc\n",
            "misc.forsale\t\t  sci.med\n"
          ]
        }
      ]
    },
    {
      "cell_type": "code",
      "metadata": {
        "colab": {
          "base_uri": "https://localhost:8080/"
        },
        "id": "HsvBaNLCJZTm",
        "outputId": "038fbd05-bdcd-46fc-c32c-1ac9f5fea327"
      },
      "source": [
        "! wget https://archive.ics.uci.edu/ml/machine-learning-databases/iris/iris.data"
      ],
      "execution_count": null,
      "outputs": [
        {
          "output_type": "stream",
          "name": "stdout",
          "text": [
            "--2021-09-08 06:43:24--  https://archive.ics.uci.edu/ml/machine-learning-databases/iris/iris.data\n",
            "Resolving archive.ics.uci.edu (archive.ics.uci.edu)... 128.195.10.252\n",
            "Connecting to archive.ics.uci.edu (archive.ics.uci.edu)|128.195.10.252|:443... connected.\n",
            "HTTP request sent, awaiting response... 200 OK\n",
            "Length: 4551 (4.4K) [application/x-httpd-php]\n",
            "Saving to: ‘iris.data’\n",
            "\n",
            "iris.data           100%[===================>]   4.44K  --.-KB/s    in 0s      \n",
            "\n",
            "2021-09-08 06:43:25 (124 MB/s) - ‘iris.data’ saved [4551/4551]\n",
            "\n"
          ]
        }
      ]
    },
    {
      "cell_type": "code",
      "metadata": {
        "id": "ruX2VZJCJZvU"
      },
      "source": [
        "! mv iris.data ./data"
      ],
      "execution_count": null,
      "outputs": []
    },
    {
      "cell_type": "code",
      "metadata": {
        "colab": {
          "base_uri": "https://localhost:8080/"
        },
        "id": "eFmGGl7_Ja7c",
        "outputId": "98899279-1c67-4b67-cb9c-2216a926e8f0"
      },
      "source": [
        "! wget https://github.com/alexander-n-thomas/spark-nlp-book-prod/raw/master/en_lemmas.txt"
      ],
      "execution_count": null,
      "outputs": [
        {
          "output_type": "stream",
          "name": "stdout",
          "text": [
            "--2021-09-08 06:43:35--  https://github.com/alexander-n-thomas/spark-nlp-book-prod/raw/master/en_lemmas.txt\n",
            "Resolving github.com (github.com)... 140.82.114.4\n",
            "Connecting to github.com (github.com)|140.82.114.4|:443... connected.\n",
            "HTTP request sent, awaiting response... 301 Moved Permanently\n",
            "Location: https://github.com/alexander-n-thomas/spark-nlp-book/raw/master/en_lemmas.txt [following]\n",
            "--2021-09-08 06:43:35--  https://github.com/alexander-n-thomas/spark-nlp-book/raw/master/en_lemmas.txt\n",
            "Reusing existing connection to github.com:443.\n",
            "HTTP request sent, awaiting response... 302 Found\n",
            "Location: https://raw.githubusercontent.com/alexander-n-thomas/spark-nlp-book/master/en_lemmas.txt [following]\n",
            "--2021-09-08 06:43:36--  https://raw.githubusercontent.com/alexander-n-thomas/spark-nlp-book/master/en_lemmas.txt\n",
            "Resolving raw.githubusercontent.com (raw.githubusercontent.com)... 185.199.108.133, 185.199.109.133, 185.199.110.133, ...\n",
            "Connecting to raw.githubusercontent.com (raw.githubusercontent.com)|185.199.108.133|:443... connected.\n",
            "HTTP request sent, awaiting response... 200 OK\n",
            "Length: 646019 (631K) [text/plain]\n",
            "Saving to: ‘en_lemmas.txt’\n",
            "\n",
            "en_lemmas.txt       100%[===================>] 630.88K  --.-KB/s    in 0.04s   \n",
            "\n",
            "2021-09-08 06:43:36 (14.6 MB/s) - ‘en_lemmas.txt’ saved [646019/646019]\n",
            "\n"
          ]
        }
      ]
    },
    {
      "cell_type": "markdown",
      "metadata": {
        "id": "mo1hY_xDAB4F"
      },
      "source": [
        "# STEP 01. install & import libraries\n"
      ]
    },
    {
      "cell_type": "code",
      "metadata": {
        "colab": {
          "base_uri": "https://localhost:8080/"
        },
        "id": "LyIUWuDC_3tb",
        "outputId": "4440c1cf-41e2-4182-b2ab-32e78176044a"
      },
      "source": [
        "import os\n",
        "\n",
        "# Install java\n",
        "! apt-get install -y openjdk-8-jdk-headless -qq > /dev/null\n",
        "os.environ[\"JAVA_HOME\"] = \"/usr/lib/jvm/java-8-openjdk-amd64\"\n",
        "os.environ[\"PATH\"] = os.environ[\"JAVA_HOME\"] + \"/bin:\" + os.environ[\"PATH\"]\n",
        "! java -version\n",
        "\n",
        "# Install pyspark\n",
        "! pip install --ignore-installed pyspark==2.4.4\n",
        "\n",
        "# Install Spark NLP\n",
        "! pip install --ignore-installed spark-nlp==2.5.1"
      ],
      "execution_count": null,
      "outputs": [
        {
          "output_type": "stream",
          "name": "stdout",
          "text": [
            "openjdk version \"1.8.0_292\"\n",
            "OpenJDK Runtime Environment (build 1.8.0_292-8u292-b10-0ubuntu1~18.04-b10)\n",
            "OpenJDK 64-Bit Server VM (build 25.292-b10, mixed mode)\n",
            "Collecting pyspark==2.4.4\n",
            "  Downloading pyspark-2.4.4.tar.gz (215.7 MB)\n",
            "\u001b[K     |████████████████████████████████| 215.7 MB 62 kB/s \n",
            "\u001b[?25hCollecting py4j==0.10.7\n",
            "  Downloading py4j-0.10.7-py2.py3-none-any.whl (197 kB)\n",
            "\u001b[K     |████████████████████████████████| 197 kB 18.4 MB/s \n",
            "\u001b[?25hBuilding wheels for collected packages: pyspark\n",
            "  Building wheel for pyspark (setup.py) ... \u001b[?25l\u001b[?25hdone\n",
            "  Created wheel for pyspark: filename=pyspark-2.4.4-py2.py3-none-any.whl size=216130392 sha256=9fcec86889222e212c3f75ce1448882e5d9741d9ca318de7cafe0d8c4b29f8ae\n",
            "  Stored in directory: /root/.cache/pip/wheels/11/48/19/c3b6b66e4575c164407a83bc065179904ddc33c9d6500846f0\n",
            "Successfully built pyspark\n",
            "Installing collected packages: py4j, pyspark\n",
            "Successfully installed py4j-0.10.7 pyspark-2.4.4\n",
            "Collecting spark-nlp==2.5.1\n",
            "  Downloading spark_nlp-2.5.1-py2.py3-none-any.whl (121 kB)\n",
            "\u001b[K     |████████████████████████████████| 121 kB 5.2 MB/s \n",
            "\u001b[?25hInstalling collected packages: spark-nlp\n",
            "Successfully installed spark-nlp-2.5.1\n"
          ]
        }
      ]
    },
    {
      "cell_type": "code",
      "metadata": {
        "id": "x6YN7Fam_7LF"
      },
      "source": [
        "import sparknlp\n",
        "\n",
        "import pyspark\n",
        "from pyspark import SparkConf\n",
        "from pyspark.sql import SparkSession\n",
        "from pyspark.sql import functions as fun\n",
        "from pyspark.sql.types import *\n",
        "\n",
        "%matplotlib inline\n",
        "import matplotlib.pyplot as plt"
      ],
      "execution_count": null,
      "outputs": []
    },
    {
      "cell_type": "markdown",
      "metadata": {
        "id": "dRMMzk1YAZzq"
      },
      "source": [
        "# STEP 02. Start Spark Session\n"
      ]
    },
    {
      "cell_type": "code",
      "metadata": {
        "id": "xu08XTO_ALic"
      },
      "source": [
        "packages = ','.join([\n",
        "    \"com.johnsnowlabs.nlp:spark-nlp_2.11:2.5.1\",\n",
        "])\n",
        "\n",
        "spark_conf = SparkConf()\n",
        "spark_conf = spark_conf.setAppName('spark-nlp-book-p1c1')\n",
        "spark_conf = spark_conf.setAppName('master[*]')\n",
        "spark_conf = spark_conf.set(\"spark.jars.packages\", packages)\n",
        "\n",
        "spark = SparkSession.builder.config(conf=spark_conf).getOrCreate()"
      ],
      "execution_count": null,
      "outputs": []
    },
    {
      "cell_type": "markdown",
      "metadata": {
        "id": "JuH2vyrSAePh"
      },
      "source": [
        "# STEP 03. Loading & Viewing data in Apache Spark\n"
      ]
    },
    {
      "cell_type": "code",
      "metadata": {
        "colab": {
          "base_uri": "https://localhost:8080/",
          "height": 34
        },
        "id": "IDFZ0wHrAjX1",
        "outputId": "311449b3-182e-4696-a607-f33aa1c60e05"
      },
      "source": [
        "mini_newsgroups_path = os.path.join('data', 'mini_newsgroups', '*')\n",
        "mini_newsgroups_path"
      ],
      "execution_count": null,
      "outputs": [
        {
          "output_type": "execute_result",
          "data": {
            "application/vnd.google.colaboratory.intrinsic+json": {
              "type": "string"
            },
            "text/plain": [
              "'data/mini_newsgroups/*'"
            ]
          },
          "metadata": {},
          "execution_count": 9
        }
      ]
    },
    {
      "cell_type": "code",
      "metadata": {
        "colab": {
          "base_uri": "https://localhost:8080/"
        },
        "id": "i8NJSt7sAo7p",
        "outputId": "671aacbc-e9df-4581-87c3-ae02e0557eae"
      },
      "source": [
        "texts = spark.sparkContext.wholeTextFiles(mini_newsgroups_path)\n",
        "texts"
      ],
      "execution_count": null,
      "outputs": [
        {
          "output_type": "execute_result",
          "data": {
            "text/plain": [
              "org.apache.spark.api.java.JavaPairRDD@508a6d47"
            ]
          },
          "metadata": {},
          "execution_count": 10
        }
      ]
    },
    {
      "cell_type": "code",
      "metadata": {
        "colab": {
          "base_uri": "https://localhost:8080/"
        },
        "id": "-mHFgo79Apna",
        "outputId": "37b251e8-99ae-4bfd-c909-a3f807e05958"
      },
      "source": [
        "schema = StructType([\n",
        "    StructField('filename', StringType()),\n",
        "    StructField('text', StringType()),\n",
        "])\n",
        "texts_df = spark.createDataFrame(texts, schema)\n",
        "texts_df.show()"
      ],
      "execution_count": null,
      "outputs": [
        {
          "output_type": "stream",
          "name": "stdout",
          "text": [
            "+--------------------+--------------------+\n",
            "|            filename|                text|\n",
            "+--------------------+--------------------+\n",
            "|file:/content/dat...|Path: cantaloupe....|\n",
            "|file:/content/dat...|Xref: cantaloupe....|\n",
            "|file:/content/dat...|Path: cantaloupe....|\n",
            "|file:/content/dat...|Newsgroups: sci.e...|\n",
            "|file:/content/dat...|Xref: cantaloupe....|\n",
            "|file:/content/dat...|Newsgroups: sci.e...|\n",
            "|file:/content/dat...|Xref: cantaloupe....|\n",
            "|file:/content/dat...|Path: cantaloupe....|\n",
            "|file:/content/dat...|Newsgroups: sci.e...|\n",
            "|file:/content/dat...|Newsgroups: sci.e...|\n",
            "|file:/content/dat...|Newsgroups: sci.e...|\n",
            "|file:/content/dat...|Newsgroups: sci.e...|\n",
            "|file:/content/dat...|Path: cantaloupe....|\n",
            "|file:/content/dat...|Path: cantaloupe....|\n",
            "|file:/content/dat...|Newsgroups: sci.e...|\n",
            "|file:/content/dat...|Path: cantaloupe....|\n",
            "|file:/content/dat...|Path: cantaloupe....|\n",
            "|file:/content/dat...|Path: cantaloupe....|\n",
            "|file:/content/dat...|Xref: cantaloupe....|\n",
            "|file:/content/dat...|Xref: cantaloupe....|\n",
            "+--------------------+--------------------+\n",
            "only showing top 20 rows\n",
            "\n"
          ]
        }
      ]
    },
    {
      "cell_type": "code",
      "metadata": {
        "colab": {
          "base_uri": "https://localhost:8080/"
        },
        "id": "0_ZVQZYRAwcu",
        "outputId": "f7fba141-0d57-471d-e469-42832590729a"
      },
      "source": [
        "texts_df.show(n=5, truncate=100, vertical=True)"
      ],
      "execution_count": null,
      "outputs": [
        {
          "output_type": "stream",
          "name": "stdout",
          "text": [
            "-RECORD 0--------------------------------------------------------------------------------------------------------\n",
            " filename | file:/content/data/mini_newsgroups/sci.electronics/54041                                             \n",
            " text     | Path: cantaloupe.srv.cs.cmu.edu!das-news.harvard.edu!ogicse!uwm.edu!cs.utexas.edu!zaphod.mps.ohio... \n",
            "-RECORD 1--------------------------------------------------------------------------------------------------------\n",
            " filename | file:/content/data/mini_newsgroups/sci.electronics/53938                                             \n",
            " text     | Xref: cantaloupe.srv.cs.cmu.edu comp.robotics:5376 sci.electronics:53938\n",
            "Newsgroups: comp.robotic... \n",
            "-RECORD 2--------------------------------------------------------------------------------------------------------\n",
            " filename | file:/content/data/mini_newsgroups/sci.electronics/53706                                             \n",
            " text     | Path: cantaloupe.srv.cs.cmu.edu!das-news.harvard.edu!noc.near.net!howland.reston.ans.net!gatech!p... \n",
            "-RECORD 3--------------------------------------------------------------------------------------------------------\n",
            " filename | file:/content/data/mini_newsgroups/sci.electronics/53839                                             \n",
            " text     | Newsgroups: sci.electronics\n",
            "Path: cantaloupe.srv.cs.cmu.edu!crabapple.srv.cs.cmu.edu!bb3.andrew.c... \n",
            "-RECORD 4--------------------------------------------------------------------------------------------------------\n",
            " filename | file:/content/data/mini_newsgroups/sci.electronics/54010                                             \n",
            " text     | Xref: cantaloupe.srv.cs.cmu.edu comp.os.msdos.programmer:23278 alt.msdos.programmer:6792 sci.elec... \n",
            "only showing top 5 rows\n",
            "\n"
          ]
        }
      ]
    },
    {
      "cell_type": "code",
      "metadata": {
        "colab": {
          "base_uri": "https://localhost:8080/",
          "height": 202
        },
        "id": "YO6zL2dlA2Oo",
        "outputId": "3b02f5f3-c64a-4481-8e72-bc6155f5073a"
      },
      "source": [
        "texts_df.limit(5).toPandas()"
      ],
      "execution_count": null,
      "outputs": [
        {
          "output_type": "execute_result",
          "data": {
            "text/html": [
              "<div>\n",
              "<style scoped>\n",
              "    .dataframe tbody tr th:only-of-type {\n",
              "        vertical-align: middle;\n",
              "    }\n",
              "\n",
              "    .dataframe tbody tr th {\n",
              "        vertical-align: top;\n",
              "    }\n",
              "\n",
              "    .dataframe thead th {\n",
              "        text-align: right;\n",
              "    }\n",
              "</style>\n",
              "<table border=\"1\" class=\"dataframe\">\n",
              "  <thead>\n",
              "    <tr style=\"text-align: right;\">\n",
              "      <th></th>\n",
              "      <th>filename</th>\n",
              "      <th>text</th>\n",
              "    </tr>\n",
              "  </thead>\n",
              "  <tbody>\n",
              "    <tr>\n",
              "      <th>0</th>\n",
              "      <td>file:/content/data/mini_newsgroups/sci.electro...</td>\n",
              "      <td>Path: cantaloupe.srv.cs.cmu.edu!das-news.harva...</td>\n",
              "    </tr>\n",
              "    <tr>\n",
              "      <th>1</th>\n",
              "      <td>file:/content/data/mini_newsgroups/sci.electro...</td>\n",
              "      <td>Xref: cantaloupe.srv.cs.cmu.edu comp.robotics:...</td>\n",
              "    </tr>\n",
              "    <tr>\n",
              "      <th>2</th>\n",
              "      <td>file:/content/data/mini_newsgroups/sci.electro...</td>\n",
              "      <td>Path: cantaloupe.srv.cs.cmu.edu!das-news.harva...</td>\n",
              "    </tr>\n",
              "    <tr>\n",
              "      <th>3</th>\n",
              "      <td>file:/content/data/mini_newsgroups/sci.electro...</td>\n",
              "      <td>Newsgroups: sci.electronics\\nPath: cantaloupe....</td>\n",
              "    </tr>\n",
              "    <tr>\n",
              "      <th>4</th>\n",
              "      <td>file:/content/data/mini_newsgroups/sci.electro...</td>\n",
              "      <td>Xref: cantaloupe.srv.cs.cmu.edu comp.os.msdos....</td>\n",
              "    </tr>\n",
              "  </tbody>\n",
              "</table>\n",
              "</div>"
            ],
            "text/plain": [
              "                                            filename                                               text\n",
              "0  file:/content/data/mini_newsgroups/sci.electro...  Path: cantaloupe.srv.cs.cmu.edu!das-news.harva...\n",
              "1  file:/content/data/mini_newsgroups/sci.electro...  Xref: cantaloupe.srv.cs.cmu.edu comp.robotics:...\n",
              "2  file:/content/data/mini_newsgroups/sci.electro...  Path: cantaloupe.srv.cs.cmu.edu!das-news.harva...\n",
              "3  file:/content/data/mini_newsgroups/sci.electro...  Newsgroups: sci.electronics\\nPath: cantaloupe....\n",
              "4  file:/content/data/mini_newsgroups/sci.electro...  Xref: cantaloupe.srv.cs.cmu.edu comp.os.msdos...."
            ]
          },
          "metadata": {},
          "execution_count": 14
        }
      ]
    },
    {
      "cell_type": "markdown",
      "metadata": {
        "id": "6fDDMyb8A-aX"
      },
      "source": [
        "# STEP 04. Hello World with SparkNLP"
      ]
    },
    {
      "cell_type": "code",
      "metadata": {
        "colab": {
          "base_uri": "https://localhost:8080/",
          "height": 202
        },
        "id": "ioijzHgSBCJV",
        "outputId": "e37f1ba5-abc5-4757-9041-a0ef744301eb"
      },
      "source": [
        "texts_df = texts_df.withColumn(\n",
        "    'newsgroup', \n",
        "    fun.split('filename', '/').getItem(8)\n",
        ")\n",
        "\n",
        "texts_df.limit(5).toPandas()"
      ],
      "execution_count": null,
      "outputs": [
        {
          "output_type": "execute_result",
          "data": {
            "text/html": [
              "<div>\n",
              "<style scoped>\n",
              "    .dataframe tbody tr th:only-of-type {\n",
              "        vertical-align: middle;\n",
              "    }\n",
              "\n",
              "    .dataframe tbody tr th {\n",
              "        vertical-align: top;\n",
              "    }\n",
              "\n",
              "    .dataframe thead th {\n",
              "        text-align: right;\n",
              "    }\n",
              "</style>\n",
              "<table border=\"1\" class=\"dataframe\">\n",
              "  <thead>\n",
              "    <tr style=\"text-align: right;\">\n",
              "      <th></th>\n",
              "      <th>filename</th>\n",
              "      <th>text</th>\n",
              "      <th>newsgroup</th>\n",
              "    </tr>\n",
              "  </thead>\n",
              "  <tbody>\n",
              "    <tr>\n",
              "      <th>0</th>\n",
              "      <td>file:/content/data/mini_newsgroups/sci.electro...</td>\n",
              "      <td>Path: cantaloupe.srv.cs.cmu.edu!das-news.harva...</td>\n",
              "      <td>None</td>\n",
              "    </tr>\n",
              "    <tr>\n",
              "      <th>1</th>\n",
              "      <td>file:/content/data/mini_newsgroups/sci.electro...</td>\n",
              "      <td>Xref: cantaloupe.srv.cs.cmu.edu comp.robotics:...</td>\n",
              "      <td>None</td>\n",
              "    </tr>\n",
              "    <tr>\n",
              "      <th>2</th>\n",
              "      <td>file:/content/data/mini_newsgroups/sci.electro...</td>\n",
              "      <td>Path: cantaloupe.srv.cs.cmu.edu!das-news.harva...</td>\n",
              "      <td>None</td>\n",
              "    </tr>\n",
              "    <tr>\n",
              "      <th>3</th>\n",
              "      <td>file:/content/data/mini_newsgroups/sci.electro...</td>\n",
              "      <td>Newsgroups: sci.electronics\\nPath: cantaloupe....</td>\n",
              "      <td>None</td>\n",
              "    </tr>\n",
              "    <tr>\n",
              "      <th>4</th>\n",
              "      <td>file:/content/data/mini_newsgroups/sci.electro...</td>\n",
              "      <td>Xref: cantaloupe.srv.cs.cmu.edu comp.os.msdos....</td>\n",
              "      <td>None</td>\n",
              "    </tr>\n",
              "  </tbody>\n",
              "</table>\n",
              "</div>"
            ],
            "text/plain": [
              "                                            filename  ... newsgroup\n",
              "0  file:/content/data/mini_newsgroups/sci.electro...  ...      None\n",
              "1  file:/content/data/mini_newsgroups/sci.electro...  ...      None\n",
              "2  file:/content/data/mini_newsgroups/sci.electro...  ...      None\n",
              "3  file:/content/data/mini_newsgroups/sci.electro...  ...      None\n",
              "4  file:/content/data/mini_newsgroups/sci.electro...  ...      None\n",
              "\n",
              "[5 rows x 3 columns]"
            ]
          },
          "metadata": {},
          "execution_count": 15
        }
      ]
    },
    {
      "cell_type": "code",
      "metadata": {
        "colab": {
          "base_uri": "https://localhost:8080/",
          "height": 308
        },
        "id": "TpOpo2fpBJRf",
        "outputId": "ae5852fb-9cbd-47f6-c64a-7179cb046d1b"
      },
      "source": [
        "newsgroup_counts = texts_df.groupBy('newsgroup').count().toPandas()\n",
        "\n",
        "newsgroup_counts.plot(kind='bar', figsize=(10, 5))\n",
        "plt.xticks(\n",
        "    ticks=range(len(newsgroup_counts)), \n",
        "    labels=newsgroup_counts['newsgroup']\n",
        ")\n",
        "plt.show()"
      ],
      "execution_count": null,
      "outputs": [
        {
          "output_type": "display_data",
          "data": {
            "image/png": "[encoded data removed]",
            "text/plain": [
              "<Figure size 720x360 with 1 Axes>"
            ]
          },
          "metadata": {
            "needs_background": "light"
          }
        }
      ]
    },
    {
      "cell_type": "code",
      "metadata": {
        "colab": {
          "base_uri": "https://localhost:8080/"
        },
        "id": "29ovoTB-BPwk",
        "outputId": "0e0ca81b-6f02-46dd-831b-049f86573e53"
      },
      "source": [
        "from sparknlp.pretrained import PretrainedPipeline\n",
        "\n",
        "\"\"\"\n",
        "The explain_document_ml has one Transformer and four annotators\n",
        "\n",
        "DocumentAssembler: a Transformer that creates a column that contains documents\n",
        "Sentence Segmenter: an annotator that produces the sentences of the document\n",
        "Tokenizer: an annotator that produces the tokens of the sentences\n",
        "SpellChecker: an annotator that produces the spelling-corrected tokens\n",
        "Stemmer: an annotator that produces the stems of the tokens\n",
        "Lemmatizer: an annotator that produces the lemmas of the tokens.\n",
        "POS Tagger: an annotator that produces the parts of speech of the associated tokens\n",
        "\n",
        "\"\"\"\n",
        "\n",
        "pipeline = PretrainedPipeline('explain_document_ml', lang='en')\n",
        "pipeline"
      ],
      "execution_count": null,
      "outputs": [
        {
          "output_type": "stream",
          "name": "stdout",
          "text": [
            "explain_document_ml download started this may take some time.\n",
            "Approx size to download 9.4 MB\n",
            "[OK!]\n"
          ]
        },
        {
          "output_type": "execute_result",
          "data": {
            "text/plain": [
              "<sparknlp.pretrained.PretrainedPipeline at 0x7f9814f7fed0>"
            ]
          },
          "metadata": {},
          "execution_count": 17
        }
      ]
    },
    {
      "cell_type": "code",
      "metadata": {
        "colab": {
          "base_uri": "https://localhost:8080/"
        },
        "id": "IQ2D6E6OBlcR",
        "outputId": "a192b720-dcec-4ddd-d7bb-de3d5d653767"
      },
      "source": [
        "pipeline.annotate('Hello wrold!')"
      ],
      "execution_count": null,
      "outputs": [
        {
          "output_type": "execute_result",
          "data": {
            "text/plain": [
              "{'document': ['Hello wrold!'],\n",
              " 'lemmas': ['Hello', 'world', '!'],\n",
              " 'pos': ['UH', 'NN', '.'],\n",
              " 'sentence': ['Hello wrold!'],\n",
              " 'spell': ['Hello', 'world', '!'],\n",
              " 'stems': ['hello', 'world', '!'],\n",
              " 'token': ['Hello', 'wrold', '!']}"
            ]
          },
          "metadata": {},
          "execution_count": 18
        }
      ]
    },
    {
      "cell_type": "code",
      "metadata": {
        "colab": {
          "base_uri": "https://localhost:8080/"
        },
        "id": "Zv05EOLnBvpb",
        "outputId": "75763c85-4da1-4cc5-d55a-01cc4cf34d81"
      },
      "source": [
        "texts_df.printSchema()"
      ],
      "execution_count": null,
      "outputs": [
        {
          "output_type": "stream",
          "name": "stdout",
          "text": [
            "root\n",
            " |-- filename: string (nullable = true)\n",
            " |-- text: string (nullable = true)\n",
            " |-- newsgroup: string (nullable = true)\n",
            "\n"
          ]
        }
      ]
    },
    {
      "cell_type": "code",
      "metadata": {
        "colab": {
          "base_uri": "https://localhost:8080/"
        },
        "id": "rC7hI9_ABzMc",
        "outputId": "e8d28287-2f8b-469e-af24-32f7ce34d977"
      },
      "source": [
        "procd_texts_df = pipeline.annotate(texts_df, 'text')\n",
        "procd_texts_df.printSchema()"
      ],
      "execution_count": null,
      "outputs": [
        {
          "output_type": "stream",
          "name": "stdout",
          "text": [
            "root\n",
            " |-- filename: string (nullable = true)\n",
            " |-- text: string (nullable = true)\n",
            " |-- newsgroup: string (nullable = true)\n",
            " |-- document: array (nullable = true)\n",
            " |    |-- element: struct (containsNull = true)\n",
            " |    |    |-- annotatorType: string (nullable = true)\n",
            " |    |    |-- begin: integer (nullable = false)\n",
            " |    |    |-- end: integer (nullable = false)\n",
            " |    |    |-- result: string (nullable = true)\n",
            " |    |    |-- metadata: map (nullable = true)\n",
            " |    |    |    |-- key: string\n",
            " |    |    |    |-- value: string (valueContainsNull = true)\n",
            " |    |    |-- embeddings: array (nullable = true)\n",
            " |    |    |    |-- element: float (containsNull = false)\n",
            " |-- sentence: array (nullable = true)\n",
            " |    |-- element: struct (containsNull = true)\n",
            " |    |    |-- annotatorType: string (nullable = true)\n",
            " |    |    |-- begin: integer (nullable = false)\n",
            " |    |    |-- end: integer (nullable = false)\n",
            " |    |    |-- result: string (nullable = true)\n",
            " |    |    |-- metadata: map (nullable = true)\n",
            " |    |    |    |-- key: string\n",
            " |    |    |    |-- value: string (valueContainsNull = true)\n",
            " |    |    |-- embeddings: array (nullable = true)\n",
            " |    |    |    |-- element: float (containsNull = false)\n",
            " |-- token: array (nullable = true)\n",
            " |    |-- element: struct (containsNull = true)\n",
            " |    |    |-- annotatorType: string (nullable = true)\n",
            " |    |    |-- begin: integer (nullable = false)\n",
            " |    |    |-- end: integer (nullable = false)\n",
            " |    |    |-- result: string (nullable = true)\n",
            " |    |    |-- metadata: map (nullable = true)\n",
            " |    |    |    |-- key: string\n",
            " |    |    |    |-- value: string (valueContainsNull = true)\n",
            " |    |    |-- embeddings: array (nullable = true)\n",
            " |    |    |    |-- element: float (containsNull = false)\n",
            " |-- spell: array (nullable = true)\n",
            " |    |-- element: struct (containsNull = true)\n",
            " |    |    |-- annotatorType: string (nullable = true)\n",
            " |    |    |-- begin: integer (nullable = false)\n",
            " |    |    |-- end: integer (nullable = false)\n",
            " |    |    |-- result: string (nullable = true)\n",
            " |    |    |-- metadata: map (nullable = true)\n",
            " |    |    |    |-- key: string\n",
            " |    |    |    |-- value: string (valueContainsNull = true)\n",
            " |    |    |-- embeddings: array (nullable = true)\n",
            " |    |    |    |-- element: float (containsNull = false)\n",
            " |-- lemmas: array (nullable = true)\n",
            " |    |-- element: struct (containsNull = true)\n",
            " |    |    |-- annotatorType: string (nullable = true)\n",
            " |    |    |-- begin: integer (nullable = false)\n",
            " |    |    |-- end: integer (nullable = false)\n",
            " |    |    |-- result: string (nullable = true)\n",
            " |    |    |-- metadata: map (nullable = true)\n",
            " |    |    |    |-- key: string\n",
            " |    |    |    |-- value: string (valueContainsNull = true)\n",
            " |    |    |-- embeddings: array (nullable = true)\n",
            " |    |    |    |-- element: float (containsNull = false)\n",
            " |-- stems: array (nullable = true)\n",
            " |    |-- element: struct (containsNull = true)\n",
            " |    |    |-- annotatorType: string (nullable = true)\n",
            " |    |    |-- begin: integer (nullable = false)\n",
            " |    |    |-- end: integer (nullable = false)\n",
            " |    |    |-- result: string (nullable = true)\n",
            " |    |    |-- metadata: map (nullable = true)\n",
            " |    |    |    |-- key: string\n",
            " |    |    |    |-- value: string (valueContainsNull = true)\n",
            " |    |    |-- embeddings: array (nullable = true)\n",
            " |    |    |    |-- element: float (containsNull = false)\n",
            " |-- pos: array (nullable = true)\n",
            " |    |-- element: struct (containsNull = true)\n",
            " |    |    |-- annotatorType: string (nullable = true)\n",
            " |    |    |-- begin: integer (nullable = false)\n",
            " |    |    |-- end: integer (nullable = false)\n",
            " |    |    |-- result: string (nullable = true)\n",
            " |    |    |-- metadata: map (nullable = true)\n",
            " |    |    |    |-- key: string\n",
            " |    |    |    |-- value: string (valueContainsNull = true)\n",
            " |    |    |-- embeddings: array (nullable = true)\n",
            " |    |    |    |-- element: float (containsNull = false)\n",
            "\n"
          ]
        }
      ]
    },
    {
      "cell_type": "code",
      "metadata": {
        "colab": {
          "base_uri": "https://localhost:8080/"
        },
        "id": "9NdbZ1ECB244",
        "outputId": "be1c8db9-d292-48f9-df12-a396ac2c44ee"
      },
      "source": [
        "procd_texts_df.show(n=2)"
      ],
      "execution_count": null,
      "outputs": [
        {
          "output_type": "stream",
          "name": "stdout",
          "text": [
            "+--------------------+--------------------+---------+--------------------+--------------------+--------------------+--------------------+--------------------+--------------------+--------------------+\n",
            "|            filename|                text|newsgroup|            document|            sentence|               token|               spell|              lemmas|               stems|                 pos|\n",
            "+--------------------+--------------------+---------+--------------------+--------------------+--------------------+--------------------+--------------------+--------------------+--------------------+\n",
            "|file:/content/dat...|Path: cantaloupe....|     null|[[document, 0, 16...|[[document, 0, 24...|[[token, 0, 3, Pa...|[[token, 0, 3, Pa...|[[token, 0, 3, Pa...|[[token, 0, 3, pa...|[[pos, 0, 3, NNP,...|\n",
            "|file:/content/dat...|Xref: cantaloupe....|     null|[[document, 0, 27...|[[document, 0, 86...|[[token, 0, 3, Xr...|[[token, 0, 3, xr...|[[token, 0, 3, xr...|[[token, 0, 3, xr...|[[pos, 0, 3, NN, ...|\n",
            "+--------------------+--------------------+---------+--------------------+--------------------+--------------------+--------------------+--------------------+--------------------+--------------------+\n",
            "only showing top 2 rows\n",
            "\n"
          ]
        }
      ]
    },
    {
      "cell_type": "code",
      "metadata": {
        "colab": {
          "base_uri": "https://localhost:8080/"
        },
        "id": "I8OCYl8YB9AQ",
        "outputId": "81d9d6f4-e33c-423d-e587-bbbfefe926fa"
      },
      "source": [
        "procd_texts_df.show(n=2, truncate=100, vertical=True)"
      ],
      "execution_count": null,
      "outputs": [
        {
          "output_type": "stream",
          "name": "stdout",
          "text": [
            "-RECORD 0---------------------------------------------------------------------------------------------------------\n",
            " filename  | file:/content/data/mini_newsgroups/sci.electronics/54041                                             \n",
            " text      | Path: cantaloupe.srv.cs.cmu.edu!das-news.harvard.edu!ogicse!uwm.edu!cs.utexas.edu!zaphod.mps.ohio... \n",
            " newsgroup | null                                                                                                 \n",
            " document  | [[document, 0, 1697, Path: cantaloupe.srv.cs.cmu.edu!das-news.harvard.edu!ogicse!uwm.edu!cs.utexa... \n",
            " sentence  | [[document, 0, 244, Path: cantaloupe.srv.cs.cmu.edu!das-news.harvard.edu!ogicse!uwm.edu!cs.utexas... \n",
            " token     | [[token, 0, 3, Path, [sentence -> 0], []], [token, 4, 4, :, [sentence -> 0], []], [token, 6, 132,... \n",
            " spell     | [[token, 0, 3, Path, [confidence -> 1.0, sentence -> 0], []], [token, 4, 4, :, [confidence -> 0.0... \n",
            " lemmas    | [[token, 0, 3, Path, [confidence -> 1.0, sentence -> 0], []], [token, 4, 4, :, [confidence -> 0.0... \n",
            " stems     | [[token, 0, 3, path, [confidence -> 1.0, sentence -> 0], []], [token, 4, 4, :, [confidence -> 0.0... \n",
            " pos       | [[pos, 0, 3, NNP, [word -> Path], []], [pos, 4, 4, :, [word -> :], []], [pos, 6, 132, NN, [word -... \n",
            "-RECORD 1---------------------------------------------------------------------------------------------------------\n",
            " filename  | file:/content/data/mini_newsgroups/sci.electronics/53938                                             \n",
            " text      | Xref: cantaloupe.srv.cs.cmu.edu comp.robotics:5376 sci.electronics:53938\n",
            "Newsgroups: comp.robotic... \n",
            " newsgroup | null                                                                                                 \n",
            " document  | [[document, 0, 2770, Xref: cantaloupe.srv.cs.cmu.edu comp.robotics:5376 sci.electronics:53938\n",
            "New... \n",
            " sentence  | [[document, 0, 867, Xref: cantaloupe.srv.cs.cmu.edu comp.robotics:5376 sci.electronics:53938\n",
            "News... \n",
            " token     | [[token, 0, 3, Xref, [sentence -> 0], []], [token, 4, 4, :, [sentence -> 0], []], [token, 6, 30, ... \n",
            " spell     | [[token, 0, 3, pref, [confidence -> 0.3333333333333333, sentence -> 0], []], [token, 4, 4, :, [co... \n",
            " lemmas    | [[token, 0, 3, pref, [confidence -> 0.3333333333333333, sentence -> 0], []], [token, 4, 4, :, [co... \n",
            " stems     | [[token, 0, 3, pref, [confidence -> 0.3333333333333333, sentence -> 0], []], [token, 4, 4, :, [co... \n",
            " pos       | [[pos, 0, 3, NN, [word -> xref], []], [pos, 4, 4, :, [word -> :], []], [pos, 6, 30, NN, [word -> ... \n",
            "only showing top 2 rows\n",
            "\n"
          ]
        }
      ]
    },
    {
      "cell_type": "code",
      "metadata": {
        "colab": {
          "base_uri": "https://localhost:8080/"
        },
        "id": "giY6FAtRB_s5",
        "outputId": "94bf39c8-795f-437f-fe75-c6503ff6601c"
      },
      "source": [
        "from sparknlp import Finisher\n",
        "\n",
        "finisher = Finisher()\n",
        "finisher = finisher\n",
        "\n",
        "# taking the lemma column\n",
        "finisher = finisher.setInputCols(['lemmas'])\n",
        "\n",
        "# seperating lemmas by a single space\n",
        "finisher = finisher.setAnnotationSplitSymbol(' ')\n",
        "finished_texts_df = finisher.transform(procd_texts_df)\n",
        "finished_texts_df.show(n=1, truncate=100, vertical=True)"
      ],
      "execution_count": null,
      "outputs": [
        {
          "output_type": "stream",
          "name": "stdout",
          "text": [
            "-RECORD 0---------------------------------------------------------------------------------------------------------------\n",
            " filename        | file:/content/data/mini_newsgroups/sci.electronics/54041                                             \n",
            " text            | Path: cantaloupe.srv.cs.cmu.edu!das-news.harvard.edu!ogicse!uwm.edu!cs.utexas.edu!zaphod.mps.ohio... \n",
            " newsgroup       | null                                                                                                 \n",
            " finished_lemmas | [Path, :, cantaloupe.srv.cs.cmu.edu!das-news.harvard.edu!ogicse!uwm.edu!cs.utexas.edu!zaphod.mps.... \n",
            "only showing top 1 row\n",
            "\n"
          ]
        }
      ]
    },
    {
      "cell_type": "markdown",
      "metadata": {
        "id": "aYzE2ifLJN0l"
      },
      "source": [
        "# STEP 05. SparkNLP Tutorial"
      ]
    },
    {
      "cell_type": "code",
      "metadata": {
        "id": "KdeKW_ecJRrW"
      },
      "source": [
        "from operator import concat, itemgetter, methodcaller\n",
        "import os\n",
        "from time import sleep\n",
        "\n",
        "import pyspark\n",
        "from pyspark import SparkConf\n",
        "from pyspark.sql import SparkSession\n",
        "from pyspark.sql import functions as fun\n",
        "from pyspark.sql.types import *"
      ],
      "execution_count": null,
      "outputs": []
    },
    {
      "cell_type": "code",
      "metadata": {
        "id": "IZvLbxp-Jg5f"
      },
      "source": [
        "packages = ','.join([\n",
        "    \"com.johnsnowlabs.nlp:spark-nlp_2.11:2.4.5\",\n",
        "])\n",
        "\n",
        "spark = SparkSession.builder \\\n",
        "    .master(\"local[*]\") \\\n",
        "    .appName(\"spark-nlp-book-p1c3\") \\\n",
        "    .config(\"spark.jars.packages\", packages)\\\n",
        "    .getOrCreate()"
      ],
      "execution_count": null,
      "outputs": []
    },
    {
      "cell_type": "code",
      "metadata": {
        "id": "IYvT7O-XJiO_"
      },
      "source": [
        "def has_moon(text):\n",
        "    if 'moon' in text:\n",
        "        sleep(1)\n",
        "        return True\n",
        "    else:\n",
        "        return False"
      ],
      "execution_count": null,
      "outputs": []
    },
    {
      "cell_type": "code",
      "metadata": {
        "colab": {
          "base_uri": "https://localhost:8080/"
        },
        "id": "EUT0NakkJj6b",
        "outputId": "1c88e7bf-b56e-4206-c2e3-c26a23e960a4"
      },
      "source": [
        "# RDD containing filepath-text pairs\n",
        "path = os.path.join('data', 'mini_newsgroups', 'sci.space')\n",
        "text_pairs = spark.sparkContext\\\n",
        "    .wholeTextFiles(path) \n",
        "texts = text_pairs.map(itemgetter(1))\n",
        "lower_cased = texts.map(methodcaller('lower'))\n",
        "moon_texts = texts.filter(has_moon).persist()\n",
        "print('This appears quickly because the previous operations are '\n",
        "      'all lazy')\n",
        "print(moon_texts.count())\n",
        "print('This appears slowly since the count method will call '\n",
        "      'has_moon which sleeps')\n",
        "print(moon_texts.reduce(concat)[:100])\n",
        "print('This appears quickly because has_moon will not be '\n",
        "      'called due to the data being persisted')"
      ],
      "execution_count": null,
      "outputs": [
        {
          "output_type": "stream",
          "name": "stdout",
          "text": [
            "This appears quickly because the previous operations are all lazy\n",
            "11\n",
            "This appears slowly since the count method will call has_moon which sleeps\n",
            "Xref: cantaloupe.srv.cs.cmu.edu sci.space:60944 sci.astro:34770 alt.sci.planetary:1193\n",
            "Path: cantalo\n",
            "This appears quickly because has_moon will not be called due to the data being persisted\n"
          ]
        }
      ]
    },
    {
      "cell_type": "code",
      "metadata": {
        "id": "gDZYkPk2JlCk"
      },
      "source": [
        "from collections import Counter\n",
        "from operator import add\n",
        "\n",
        "from nltk.tokenize import RegexpTokenizer"
      ],
      "execution_count": null,
      "outputs": []
    },
    {
      "cell_type": "code",
      "metadata": {
        "colab": {
          "base_uri": "https://localhost:8080/"
        },
        "id": "ypqOV28_JqWT",
        "outputId": "f85344be-dba2-4dae-80fd-7f3edd560bb0"
      },
      "source": [
        "# RDD containing filepath-text pairs\n",
        "texts = spark.sparkContext.wholeTextFiles(path) \n",
        "print('\\n\\nfilepath-text pair of first document')\n",
        "print(texts.first())"
      ],
      "execution_count": null,
      "outputs": [
        {
          "output_type": "stream",
          "name": "stdout",
          "text": [
            "\n",
            "\n",
            "filepath-text pair of first document\n",
            "('file:/content/data/mini_newsgroups/sci.space/61440', \"Newsgroups: sci.space\\nPath: cantaloupe.srv.cs.cmu.edu!das-news.harvard.edu!noc.near.net!howland.reston.ans.net!zaphod.mps.ohio-state.edu!saimiri.primate.wisc.edu!usenet.coe.montana.edu!netnews.nwnet.net!news.u.washington.edu!raven.alaska.edu!aurora.alaska.edu!nsmca\\nFrom: nsmca@aurora.alaska.edu\\nSubject: Re: Space Manuevering Tug (was HST servicing mission_)\\nMessage-ID: <1993Apr29.234119.1@aurora.alaska.edu>\\nLines: 39\\nSender: news@raven.alaska.edu (USENET News System)\\nNntp-Posting-Host: acad3.alaska.edu\\nOrganization: University of Alaska Fairbanks\\nReferences: <1rnaih$jvj@access.digex.net>\\nDate: Fri, 30 Apr 1993 07:41:19 GMT\\n\\nIn article <1rnaih$jvj@access.digex.net>, prb@access.digex.net (Pat) writes:\\n> \\n> Given that what i described for the HST  seemed to be the SMT,   and given\\n> the mass amrgins on the discovery mission  is tight enough that  spacewalking\\n> has to be carefully constrained.....  No EDO pallets,  no spare Suits,\\n> no extra MMU's.   \\n> \\n> WHy not do this?\\n> \\n> \\tQuick Test  Goldins philosophjy  of faster cheaper, better.\\n> \\n> Build a real fast Space TUg,  to handle the re-boost  of the HST  using\\n> clean Cryo fuels,  and get it ready before the  HST mission.\\n> \\n> If NASA  could build Mercury in 13 months,  they should be able to make\\n> an SMT in 9.   \\n> \\n> How much would it need?\\n> \\n> Guidance package.  Use a  Voyager spare.   \\n> \\n> Thruster gear,  Use H2O2,  or LOX/LH.\\n> \\n> Bus  Use a Commsat.\\n> \\n> Grapple fixture.   Use a stripped down Canadarm.\\n> \\n> Comms package.   SPare  X-band  omni  gear.\\n> \\n> pat\\n\\n\\nAnd then why not build a space dock..\\nEither inflated or not.. some place a crew can work on a item without having to \\nwear much of the items they have to for spae.. such as most of he bulky suit..\\nMore idea to come..\\n==\\nMichael Adams, nsmca@acad3.alaska.edu -- I'm not high, just jacked\\n\\n\")\n"
          ]
        }
      ]
    },
    {
      "cell_type": "code",
      "metadata": {
        "colab": {
          "base_uri": "https://localhost:8080/"
        },
        "id": "G6ZMD_ttJrud",
        "outputId": "a655bfbf-4513-42e5-df41-0900d3c26871"
      },
      "source": [
        "tokenizer = RegexpTokenizer(r'\\w+', gaps=False)\n",
        "tokenized_texts = texts.map(\n",
        "    lambda path_text: tokenizer.tokenize(path_text[1]))\n",
        "print('\\n\\ntokenized text of first document')\n",
        "print(tokenized_texts.first())"
      ],
      "execution_count": null,
      "outputs": [
        {
          "output_type": "stream",
          "name": "stdout",
          "text": [
            "\n",
            "\n",
            "tokenized text of first document\n",
            "['Newsgroups', 'sci', 'space', 'Path', 'cantaloupe', 'srv', 'cs', 'cmu', 'edu', 'das', 'news', 'harvard', 'edu', 'noc', 'near', 'net', 'howland', 'reston', 'ans', 'net', 'zaphod', 'mps', 'ohio', 'state', 'edu', 'saimiri', 'primate', 'wisc', 'edu', 'usenet', 'coe', 'montana', 'edu', 'netnews', 'nwnet', 'net', 'news', 'u', 'washington', 'edu', 'raven', 'alaska', 'edu', 'aurora', 'alaska', 'edu', 'nsmca', 'From', 'nsmca', 'aurora', 'alaska', 'edu', 'Subject', 'Re', 'Space', 'Manuevering', 'Tug', 'was', 'HST', 'servicing', 'mission_', 'Message', 'ID', '1993Apr29', '234119', '1', 'aurora', 'alaska', 'edu', 'Lines', '39', 'Sender', 'news', 'raven', 'alaska', 'edu', 'USENET', 'News', 'System', 'Nntp', 'Posting', 'Host', 'acad3', 'alaska', 'edu', 'Organization', 'University', 'of', 'Alaska', 'Fairbanks', 'References', '1rnaih', 'jvj', 'access', 'digex', 'net', 'Date', 'Fri', '30', 'Apr', '1993', '07', '41', '19', 'GMT', 'In', 'article', '1rnaih', 'jvj', 'access', 'digex', 'net', 'prb', 'access', 'digex', 'net', 'Pat', 'writes', 'Given', 'that', 'what', 'i', 'described', 'for', 'the', 'HST', 'seemed', 'to', 'be', 'the', 'SMT', 'and', 'given', 'the', 'mass', 'amrgins', 'on', 'the', 'discovery', 'mission', 'is', 'tight', 'enough', 'that', 'spacewalking', 'has', 'to', 'be', 'carefully', 'constrained', 'No', 'EDO', 'pallets', 'no', 'spare', 'Suits', 'no', 'extra', 'MMU', 's', 'WHy', 'not', 'do', 'this', 'Quick', 'Test', 'Goldins', 'philosophjy', 'of', 'faster', 'cheaper', 'better', 'Build', 'a', 'real', 'fast', 'Space', 'TUg', 'to', 'handle', 'the', 're', 'boost', 'of', 'the', 'HST', 'using', 'clean', 'Cryo', 'fuels', 'and', 'get', 'it', 'ready', 'before', 'the', 'HST', 'mission', 'If', 'NASA', 'could', 'build', 'Mercury', 'in', '13', 'months', 'they', 'should', 'be', 'able', 'to', 'make', 'an', 'SMT', 'in', '9', 'How', 'much', 'would', 'it', 'need', 'Guidance', 'package', 'Use', 'a', 'Voyager', 'spare', 'Thruster', 'gear', 'Use', 'H2O2', 'or', 'LOX', 'LH', 'Bus', 'Use', 'a', 'Commsat', 'Grapple', 'fixture', 'Use', 'a', 'stripped', 'down', 'Canadarm', 'Comms', 'package', 'SPare', 'X', 'band', 'omni', 'gear', 'pat', 'And', 'then', 'why', 'not', 'build', 'a', 'space', 'dock', 'Either', 'inflated', 'or', 'not', 'some', 'place', 'a', 'crew', 'can', 'work', 'on', 'a', 'item', 'without', 'having', 'to', 'wear', 'much', 'of', 'the', 'items', 'they', 'have', 'to', 'for', 'spae', 'such', 'as', 'most', 'of', 'he', 'bulky', 'suit', 'More', 'idea', 'to', 'come', 'Michael', 'Adams', 'nsmca', 'acad3', 'alaska', 'edu', 'I', 'm', 'not', 'high', 'just', 'jacked']\n"
          ]
        }
      ]
    },
    {
      "cell_type": "code",
      "metadata": {
        "colab": {
          "base_uri": "https://localhost:8080/"
        },
        "id": "A2m0ZyubJwGO",
        "outputId": "5f96812d-a06c-4ff7-ffa2-bfb7c5846eb3"
      },
      "source": [
        "# This is the equivalent place that the previous implementations \n",
        "# started\n",
        "document_token_counts = tokenized_texts.map(Counter)\n",
        "print('\\n\\ndocument-level counts of first document')\n",
        "print(document_token_counts.first().most_common(10))"
      ],
      "execution_count": null,
      "outputs": [
        {
          "output_type": "stream",
          "name": "stdout",
          "text": [
            "\n",
            "\n",
            "document-level counts of first document\n",
            "[('edu', 13), ('the', 8), ('alaska', 7), ('to', 7), ('a', 7), ('net', 6), ('of', 5), ('HST', 4), ('not', 4), ('Use', 4)]\n"
          ]
        }
      ]
    },
    {
      "cell_type": "code",
      "metadata": {
        "colab": {
          "base_uri": "https://localhost:8080/"
        },
        "id": "YCBJQI8JKLhD",
        "outputId": "6adf9953-2eed-4878-8ab9-f08ed8b42775"
      },
      "source": [
        "word_counts = token_counts = document_token_counts.reduce(add)\n",
        "print('\\n\\nword counts')\n",
        "print(word_counts.most_common(10))"
      ],
      "execution_count": null,
      "outputs": [
        {
          "output_type": "stream",
          "name": "stdout",
          "text": [
            "\n",
            "\n",
            "word counts\n",
            "[('the', 1648), ('of', 804), ('edu', 784), ('to', 770), ('and', 641), ('a', 615), ('in', 402), ('is', 352), ('for', 305), ('cmu', 288)]\n"
          ]
        }
      ]
    },
    {
      "cell_type": "code",
      "metadata": {
        "id": "T3kGOq3MOFV0"
      },
      "source": [
        "from sparknlp import DocumentAssembler, Finisher"
      ],
      "execution_count": null,
      "outputs": []
    },
    {
      "cell_type": "code",
      "metadata": {
        "id": "XyvnShu0OHhI"
      },
      "source": [
        "# RDD containing filepath-text pairs\n",
        "texts = spark.sparkContext.wholeTextFiles(path)\n",
        "\n",
        "schema = StructType([\n",
        "    StructField('path', StringType()),\n",
        "    StructField('text', StringType()),\n",
        "])\n",
        "\n",
        "texts = spark.createDataFrame(texts, schema=schema)"
      ],
      "execution_count": null,
      "outputs": []
    },
    {
      "cell_type": "code",
      "metadata": {
        "colab": {
          "base_uri": "https://localhost:8080/",
          "height": 202
        },
        "id": "z6aAIpqSOIsq",
        "outputId": "1da6a615-5b0a-44c9-fe61-aad4e49a80fb"
      },
      "source": [
        "texts.limit(5).toPandas()"
      ],
      "execution_count": null,
      "outputs": [
        {
          "output_type": "execute_result",
          "data": {
            "text/html": [
              "<div>\n",
              "<style scoped>\n",
              "    .dataframe tbody tr th:only-of-type {\n",
              "        vertical-align: middle;\n",
              "    }\n",
              "\n",
              "    .dataframe tbody tr th {\n",
              "        vertical-align: top;\n",
              "    }\n",
              "\n",
              "    .dataframe thead th {\n",
              "        text-align: right;\n",
              "    }\n",
              "</style>\n",
              "<table border=\"1\" class=\"dataframe\">\n",
              "  <thead>\n",
              "    <tr style=\"text-align: right;\">\n",
              "      <th></th>\n",
              "      <th>path</th>\n",
              "      <th>text</th>\n",
              "    </tr>\n",
              "  </thead>\n",
              "  <tbody>\n",
              "    <tr>\n",
              "      <th>0</th>\n",
              "      <td>file:/content/data/mini_newsgroups/sci.space/6...</td>\n",
              "      <td>Newsgroups: sci.space\\nPath: cantaloupe.srv.cs...</td>\n",
              "    </tr>\n",
              "    <tr>\n",
              "      <th>1</th>\n",
              "      <td>file:/content/data/mini_newsgroups/sci.space/6...</td>\n",
              "      <td>Xref: cantaloupe.srv.cs.cmu.edu sci.astro:3513...</td>\n",
              "    </tr>\n",
              "    <tr>\n",
              "      <th>2</th>\n",
              "      <td>file:/content/data/mini_newsgroups/sci.space/6...</td>\n",
              "      <td>Xref: cantaloupe.srv.cs.cmu.edu sci.environmen...</td>\n",
              "    </tr>\n",
              "    <tr>\n",
              "      <th>3</th>\n",
              "      <td>file:/content/data/mini_newsgroups/sci.space/6...</td>\n",
              "      <td>Newsgroups: sci.space\\nPath: cantaloupe.srv.cs...</td>\n",
              "    </tr>\n",
              "    <tr>\n",
              "      <th>4</th>\n",
              "      <td>file:/content/data/mini_newsgroups/sci.space/6...</td>\n",
              "      <td>Xref: cantaloupe.srv.cs.cmu.edu sci.environmen...</td>\n",
              "    </tr>\n",
              "  </tbody>\n",
              "</table>\n",
              "</div>"
            ],
            "text/plain": [
              "                                                path                                               text\n",
              "0  file:/content/data/mini_newsgroups/sci.space/6...  Newsgroups: sci.space\\nPath: cantaloupe.srv.cs...\n",
              "1  file:/content/data/mini_newsgroups/sci.space/6...  Xref: cantaloupe.srv.cs.cmu.edu sci.astro:3513...\n",
              "2  file:/content/data/mini_newsgroups/sci.space/6...  Xref: cantaloupe.srv.cs.cmu.edu sci.environmen...\n",
              "3  file:/content/data/mini_newsgroups/sci.space/6...  Newsgroups: sci.space\\nPath: cantaloupe.srv.cs...\n",
              "4  file:/content/data/mini_newsgroups/sci.space/6...  Xref: cantaloupe.srv.cs.cmu.edu sci.environmen..."
            ]
          },
          "metadata": {},
          "execution_count": 60
        }
      ]
    },
    {
      "cell_type": "code",
      "metadata": {
        "colab": {
          "base_uri": "https://localhost:8080/",
          "height": 202
        },
        "id": "dfEa0uXCOJzo",
        "outputId": "37a9ad47-f96a-41a5-b96b-50759ebb9dca"
      },
      "source": [
        "\"\"\"\n",
        "DocumentAssembler\n",
        "The DocumentAssembler takes five parameters (see table0314):\n",
        "\n",
        "inputCol\n",
        "The column containing the text of the document\n",
        "outputCol\n",
        "The name of the column containing the newly constructed document\n",
        "idCol\n",
        "The name of the column containing the identifier (optional)\n",
        "metadataCol\n",
        "The name of a Map-type column that represents document metadata (optional)\n",
        "trimAndClearNewLines\n",
        "Determines whether to remove new line characters and trim strings (optional, default = True)\n",
        "\"\"\"\n",
        "\n",
        "document_assembler = DocumentAssembler()\\\n",
        "    .setInputCol('text')\\\n",
        "    .setOutputCol('document')\\\n",
        "    .setIdCol('path')\n",
        "\n",
        "docs = document_assembler.transform(texts)\n",
        "\n",
        "docs.limit(5).toPandas()"
      ],
      "execution_count": null,
      "outputs": [
        {
          "output_type": "execute_result",
          "data": {
            "text/html": [
              "<div>\n",
              "<style scoped>\n",
              "    .dataframe tbody tr th:only-of-type {\n",
              "        vertical-align: middle;\n",
              "    }\n",
              "\n",
              "    .dataframe tbody tr th {\n",
              "        vertical-align: top;\n",
              "    }\n",
              "\n",
              "    .dataframe thead th {\n",
              "        text-align: right;\n",
              "    }\n",
              "</style>\n",
              "<table border=\"1\" class=\"dataframe\">\n",
              "  <thead>\n",
              "    <tr style=\"text-align: right;\">\n",
              "      <th></th>\n",
              "      <th>path</th>\n",
              "      <th>text</th>\n",
              "      <th>document</th>\n",
              "    </tr>\n",
              "  </thead>\n",
              "  <tbody>\n",
              "    <tr>\n",
              "      <th>0</th>\n",
              "      <td>file:/content/data/mini_newsgroups/sci.space/6...</td>\n",
              "      <td>Newsgroups: sci.space\\nPath: cantaloupe.srv.cs...</td>\n",
              "      <td>[(document, 0, 1834, Newsgroups: sci.space\\nPa...</td>\n",
              "    </tr>\n",
              "    <tr>\n",
              "      <th>1</th>\n",
              "      <td>file:/content/data/mini_newsgroups/sci.space/6...</td>\n",
              "      <td>Xref: cantaloupe.srv.cs.cmu.edu sci.astro:3513...</td>\n",
              "      <td>[(document, 0, 1367, Xref: cantaloupe.srv.cs.c...</td>\n",
              "    </tr>\n",
              "    <tr>\n",
              "      <th>2</th>\n",
              "      <td>file:/content/data/mini_newsgroups/sci.space/6...</td>\n",
              "      <td>Xref: cantaloupe.srv.cs.cmu.edu sci.environmen...</td>\n",
              "      <td>[(document, 0, 823, Xref: cantaloupe.srv.cs.cm...</td>\n",
              "    </tr>\n",
              "    <tr>\n",
              "      <th>3</th>\n",
              "      <td>file:/content/data/mini_newsgroups/sci.space/6...</td>\n",
              "      <td>Newsgroups: sci.space\\nPath: cantaloupe.srv.cs...</td>\n",
              "      <td>[(document, 0, 1693, Newsgroups: sci.space\\nPa...</td>\n",
              "    </tr>\n",
              "    <tr>\n",
              "      <th>4</th>\n",
              "      <td>file:/content/data/mini_newsgroups/sci.space/6...</td>\n",
              "      <td>Xref: cantaloupe.srv.cs.cmu.edu sci.environmen...</td>\n",
              "      <td>[(document, 0, 1537, Xref: cantaloupe.srv.cs.c...</td>\n",
              "    </tr>\n",
              "  </tbody>\n",
              "</table>\n",
              "</div>"
            ],
            "text/plain": [
              "                                                path  ...                                           document\n",
              "0  file:/content/data/mini_newsgroups/sci.space/6...  ...  [(document, 0, 1834, Newsgroups: sci.space\\nPa...\n",
              "1  file:/content/data/mini_newsgroups/sci.space/6...  ...  [(document, 0, 1367, Xref: cantaloupe.srv.cs.c...\n",
              "2  file:/content/data/mini_newsgroups/sci.space/6...  ...  [(document, 0, 823, Xref: cantaloupe.srv.cs.cm...\n",
              "3  file:/content/data/mini_newsgroups/sci.space/6...  ...  [(document, 0, 1693, Newsgroups: sci.space\\nPa...\n",
              "4  file:/content/data/mini_newsgroups/sci.space/6...  ...  [(document, 0, 1537, Xref: cantaloupe.srv.cs.c...\n",
              "\n",
              "[5 rows x 3 columns]"
            ]
          },
          "metadata": {},
          "execution_count": 62
        }
      ]
    },
    {
      "cell_type": "code",
      "metadata": {
        "colab": {
          "base_uri": "https://localhost:8080/"
        },
        "id": "u-ojCmZWOTJL",
        "outputId": "9990c124-dd3f-44cd-dbaa-83bab546ea8a"
      },
      "source": [
        "docs.first()['document'][0].asDict()"
      ],
      "execution_count": null,
      "outputs": [
        {
          "output_type": "execute_result",
          "data": {
            "text/plain": [
              "{'annotatorType': 'document',\n",
              " 'begin': 0,\n",
              " 'embeddings': [],\n",
              " 'end': 1834,\n",
              " 'metadata': {'id': 'file:/content/data/mini_newsgroups/sci.space/61440',\n",
              "  'sentence': '0'},\n",
              " 'result': \"Newsgroups: sci.space\\nPath: cantaloupe.srv.cs.cmu.edu!das-news.harvard.edu!noc.near.net!howland.reston.ans.net!zaphod.mps.ohio-state.edu!saimiri.primate.wisc.edu!usenet.coe.montana.edu!netnews.nwnet.net!news.u.washington.edu!raven.alaska.edu!aurora.alaska.edu!nsmca\\nFrom: nsmca@aurora.alaska.edu\\nSubject: Re: Space Manuevering Tug (was HST servicing mission_)\\nMessage-ID: <1993Apr29.234119.1@aurora.alaska.edu>\\nLines: 39\\nSender: news@raven.alaska.edu (USENET News System)\\nNntp-Posting-Host: acad3.alaska.edu\\nOrganization: University of Alaska Fairbanks\\nReferences: <1rnaih$jvj@access.digex.net>\\nDate: Fri, 30 Apr 1993 07:41:19 GMT\\n\\nIn article <1rnaih$jvj@access.digex.net>, prb@access.digex.net (Pat) writes:\\n> \\n> Given that what i described for the HST  seemed to be the SMT,   and given\\n> the mass amrgins on the discovery mission  is tight enough that  spacewalking\\n> has to be carefully constrained.....  No EDO pallets,  no spare Suits,\\n> no extra MMU's.   \\n> \\n> WHy not do this?\\n> \\n> \\tQuick Test  Goldins philosophjy  of faster cheaper, better.\\n> \\n> Build a real fast Space TUg,  to handle the re-boost  of the HST  using\\n> clean Cryo fuels,  and get it ready before the  HST mission.\\n> \\n> If NASA  could build Mercury in 13 months,  they should be able to make\\n> an SMT in 9.   \\n> \\n> How much would it need?\\n> \\n> Guidance package.  Use a  Voyager spare.   \\n> \\n> Thruster gear,  Use H2O2,  or LOX/LH.\\n> \\n> Bus  Use a Commsat.\\n> \\n> Grapple fixture.   Use a stripped down Canadarm.\\n> \\n> Comms package.   SPare  X-band  omni  gear.\\n> \\n> pat\\n\\n\\nAnd then why not build a space dock..\\nEither inflated or not.. some place a crew can work on a item without having to \\nwear much of the items they have to for spae.. such as most of he bulky suit..\\nMore idea to come..\\n==\\nMichael Adams, nsmca@acad3.alaska.edu -- I'm not high, just jacked\\n\\n\"}"
            ]
          },
          "metadata": {},
          "execution_count": 63
        }
      ]
    },
    {
      "cell_type": "code",
      "metadata": {
        "colab": {
          "base_uri": "https://localhost:8080/",
          "height": 202
        },
        "id": "b5nSEzj8OUHc",
        "outputId": "4905b225-76ac-481d-98b7-588a2b1e8129"
      },
      "source": [
        "from sparknlp.annotator import SentenceDetector\n",
        "\n",
        "\"\"\"\n",
        "SentenceDetector\n",
        "The SentenceDetector uses a rule-based algorithm inspired by Kevin Dias's Ruby implementation. It takes the following parameters\n",
        "\n",
        "inputCols\n",
        "A list of columns to sentence-tokenize.\n",
        "outputCol\n",
        "The name of the new sentence column.\n",
        "useAbbrevations\n",
        "Determines whether to apply abbreviations at sentence detection.\n",
        "useCustomBoundsOnly\n",
        "Determines whether to only utilize custom bounds for sentence detection.\n",
        "explodeSentences\n",
        "Determines whether to explode each sentence into a different row, for better parallelization. Defaults to false.\n",
        "customBounds\n",
        "Characters used to explicitly mark sentence bounds.\n",
        "\"\"\"\n",
        "\n",
        "sent_detector = SentenceDetector()\\\n",
        "    .setInputCols(['document'])\\\n",
        "    .setOutputCol('sentences')\n",
        "\n",
        "sentences = sent_detector.transform(docs)\n",
        "sentences.limit(5).toPandas()"
      ],
      "execution_count": null,
      "outputs": [
        {
          "output_type": "execute_result",
          "data": {
            "text/html": [
              "<div>\n",
              "<style scoped>\n",
              "    .dataframe tbody tr th:only-of-type {\n",
              "        vertical-align: middle;\n",
              "    }\n",
              "\n",
              "    .dataframe tbody tr th {\n",
              "        vertical-align: top;\n",
              "    }\n",
              "\n",
              "    .dataframe thead th {\n",
              "        text-align: right;\n",
              "    }\n",
              "</style>\n",
              "<table border=\"1\" class=\"dataframe\">\n",
              "  <thead>\n",
              "    <tr style=\"text-align: right;\">\n",
              "      <th></th>\n",
              "      <th>path</th>\n",
              "      <th>text</th>\n",
              "      <th>document</th>\n",
              "      <th>sentences</th>\n",
              "    </tr>\n",
              "  </thead>\n",
              "  <tbody>\n",
              "    <tr>\n",
              "      <th>0</th>\n",
              "      <td>file:/content/data/mini_newsgroups/sci.space/6...</td>\n",
              "      <td>Newsgroups: sci.space\\nPath: cantaloupe.srv.cs...</td>\n",
              "      <td>[(document, 0, 1834, Newsgroups: sci.space\\nPa...</td>\n",
              "      <td>[(document, 0, 207, Newsgroups: sci.space\\nPat...</td>\n",
              "    </tr>\n",
              "    <tr>\n",
              "      <th>1</th>\n",
              "      <td>file:/content/data/mini_newsgroups/sci.space/6...</td>\n",
              "      <td>Xref: cantaloupe.srv.cs.cmu.edu sci.astro:3513...</td>\n",
              "      <td>[(document, 0, 1367, Xref: cantaloupe.srv.cs.c...</td>\n",
              "      <td>[(document, 0, 212, Xref: cantaloupe.srv.cs.cm...</td>\n",
              "    </tr>\n",
              "    <tr>\n",
              "      <th>2</th>\n",
              "      <td>file:/content/data/mini_newsgroups/sci.space/6...</td>\n",
              "      <td>Xref: cantaloupe.srv.cs.cmu.edu sci.environmen...</td>\n",
              "      <td>[(document, 0, 823, Xref: cantaloupe.srv.cs.cm...</td>\n",
              "      <td>[(document, 0, 561, Xref: cantaloupe.srv.cs.cm...</td>\n",
              "    </tr>\n",
              "    <tr>\n",
              "      <th>3</th>\n",
              "      <td>file:/content/data/mini_newsgroups/sci.space/6...</td>\n",
              "      <td>Newsgroups: sci.space\\nPath: cantaloupe.srv.cs...</td>\n",
              "      <td>[(document, 0, 1693, Newsgroups: sci.space\\nPa...</td>\n",
              "      <td>[(document, 0, 917, Newsgroups: sci.space\\nPat...</td>\n",
              "    </tr>\n",
              "    <tr>\n",
              "      <th>4</th>\n",
              "      <td>file:/content/data/mini_newsgroups/sci.space/6...</td>\n",
              "      <td>Xref: cantaloupe.srv.cs.cmu.edu sci.environmen...</td>\n",
              "      <td>[(document, 0, 1537, Xref: cantaloupe.srv.cs.c...</td>\n",
              "      <td>[(document, 0, 666, Xref: cantaloupe.srv.cs.cm...</td>\n",
              "    </tr>\n",
              "  </tbody>\n",
              "</table>\n",
              "</div>"
            ],
            "text/plain": [
              "                                                path  ...                                          sentences\n",
              "0  file:/content/data/mini_newsgroups/sci.space/6...  ...  [(document, 0, 207, Newsgroups: sci.space\\nPat...\n",
              "1  file:/content/data/mini_newsgroups/sci.space/6...  ...  [(document, 0, 212, Xref: cantaloupe.srv.cs.cm...\n",
              "2  file:/content/data/mini_newsgroups/sci.space/6...  ...  [(document, 0, 561, Xref: cantaloupe.srv.cs.cm...\n",
              "3  file:/content/data/mini_newsgroups/sci.space/6...  ...  [(document, 0, 917, Newsgroups: sci.space\\nPat...\n",
              "4  file:/content/data/mini_newsgroups/sci.space/6...  ...  [(document, 0, 666, Xref: cantaloupe.srv.cs.cm...\n",
              "\n",
              "[5 rows x 4 columns]"
            ]
          },
          "metadata": {},
          "execution_count": 64
        }
      ]
    },
    {
      "cell_type": "code",
      "metadata": {
        "colab": {
          "base_uri": "https://localhost:8080/",
          "height": 202
        },
        "id": "z4WGBvAGOa5z",
        "outputId": "f66a89eb-68eb-451c-a5e8-c8d5e0dfe181"
      },
      "source": [
        "from sparknlp.annotator import Tokenizer\n",
        "\n",
        "\"\"\"\n",
        "Tokenizer\n",
        "A Tokenizer is a fundamental Annotator. Almost all text-based data processing begins with some form of tokenization. Most classical NLP algorithms expect tokens as the basic input. Many deep learning algorithms are being developed that take characters as basic input. Most NLP applications still use tokenization. The Spark NLP Tokenizer is a little more sophisticated than just a regular expression-based tokenizer. It has a number of parameters. The following are some of the basic ones (see table0316 for the results):\n",
        "\n",
        "inputCols\n",
        "A list of columns to tokenize.\n",
        "outputCol\n",
        "The name of the new token column.\n",
        "targetPattern\n",
        "Basic regex rule to identify a candidate for tokenization. Defaults to \\S+ which means anything not a space (optional).\n",
        "prefixPattern\n",
        "Regular expression (regex) to identify subtokens that come in the beginning of the token. Regex has to start with \\A and must contain groups (). Each group will become a separate token within the prefix. Defaults to nonletter characters—for example, quotes or parentheses (optional).\n",
        "suffixPattern\n",
        "Regex to identify subtokens that are in the end of the token. Regex has to end with \\z and must contain groups (). Each group will become a separate token within the prefix. Defaults to nonletter characters—for example, quotes or parentheses (optional).\n",
        "\"\"\"\n",
        "\n",
        "tokenizer = Tokenizer()\\\n",
        "    .setInputCols(['sentences'])\\\n",
        "    .setOutputCol('tokens')\\\n",
        "    .fit(sentences)\n",
        "\n",
        "tokens = tokenizer.transform(sentences)\n",
        "tokens.limit(5).toPandas()"
      ],
      "execution_count": null,
      "outputs": [
        {
          "output_type": "execute_result",
          "data": {
            "text/html": [
              "<div>\n",
              "<style scoped>\n",
              "    .dataframe tbody tr th:only-of-type {\n",
              "        vertical-align: middle;\n",
              "    }\n",
              "\n",
              "    .dataframe tbody tr th {\n",
              "        vertical-align: top;\n",
              "    }\n",
              "\n",
              "    .dataframe thead th {\n",
              "        text-align: right;\n",
              "    }\n",
              "</style>\n",
              "<table border=\"1\" class=\"dataframe\">\n",
              "  <thead>\n",
              "    <tr style=\"text-align: right;\">\n",
              "      <th></th>\n",
              "      <th>path</th>\n",
              "      <th>text</th>\n",
              "      <th>document</th>\n",
              "      <th>sentences</th>\n",
              "      <th>tokens</th>\n",
              "    </tr>\n",
              "  </thead>\n",
              "  <tbody>\n",
              "    <tr>\n",
              "      <th>0</th>\n",
              "      <td>file:/content/data/mini_newsgroups/sci.space/6...</td>\n",
              "      <td>Newsgroups: sci.space\\nPath: cantaloupe.srv.cs...</td>\n",
              "      <td>[(document, 0, 1834, Newsgroups: sci.space\\nPa...</td>\n",
              "      <td>[(document, 0, 207, Newsgroups: sci.space\\nPat...</td>\n",
              "      <td>[(token, 0, 9, Newsgroups, {'sentence': '0'}, ...</td>\n",
              "    </tr>\n",
              "    <tr>\n",
              "      <th>1</th>\n",
              "      <td>file:/content/data/mini_newsgroups/sci.space/6...</td>\n",
              "      <td>Xref: cantaloupe.srv.cs.cmu.edu sci.astro:3513...</td>\n",
              "      <td>[(document, 0, 1367, Xref: cantaloupe.srv.cs.c...</td>\n",
              "      <td>[(document, 0, 212, Xref: cantaloupe.srv.cs.cm...</td>\n",
              "      <td>[(token, 0, 3, Xref, {'sentence': '0'}, []), (...</td>\n",
              "    </tr>\n",
              "    <tr>\n",
              "      <th>2</th>\n",
              "      <td>file:/content/data/mini_newsgroups/sci.space/6...</td>\n",
              "      <td>Xref: cantaloupe.srv.cs.cmu.edu sci.environmen...</td>\n",
              "      <td>[(document, 0, 823, Xref: cantaloupe.srv.cs.cm...</td>\n",
              "      <td>[(document, 0, 561, Xref: cantaloupe.srv.cs.cm...</td>\n",
              "      <td>[(token, 0, 3, Xref, {'sentence': '0'}, []), (...</td>\n",
              "    </tr>\n",
              "    <tr>\n",
              "      <th>3</th>\n",
              "      <td>file:/content/data/mini_newsgroups/sci.space/6...</td>\n",
              "      <td>Newsgroups: sci.space\\nPath: cantaloupe.srv.cs...</td>\n",
              "      <td>[(document, 0, 1693, Newsgroups: sci.space\\nPa...</td>\n",
              "      <td>[(document, 0, 917, Newsgroups: sci.space\\nPat...</td>\n",
              "      <td>[(token, 0, 9, Newsgroups, {'sentence': '0'}, ...</td>\n",
              "    </tr>\n",
              "    <tr>\n",
              "      <th>4</th>\n",
              "      <td>file:/content/data/mini_newsgroups/sci.space/6...</td>\n",
              "      <td>Xref: cantaloupe.srv.cs.cmu.edu sci.environmen...</td>\n",
              "      <td>[(document, 0, 1537, Xref: cantaloupe.srv.cs.c...</td>\n",
              "      <td>[(document, 0, 666, Xref: cantaloupe.srv.cs.cm...</td>\n",
              "      <td>[(token, 0, 3, Xref, {'sentence': '0'}, []), (...</td>\n",
              "    </tr>\n",
              "  </tbody>\n",
              "</table>\n",
              "</div>"
            ],
            "text/plain": [
              "                                                path  ...                                             tokens\n",
              "0  file:/content/data/mini_newsgroups/sci.space/6...  ...  [(token, 0, 9, Newsgroups, {'sentence': '0'}, ...\n",
              "1  file:/content/data/mini_newsgroups/sci.space/6...  ...  [(token, 0, 3, Xref, {'sentence': '0'}, []), (...\n",
              "2  file:/content/data/mini_newsgroups/sci.space/6...  ...  [(token, 0, 3, Xref, {'sentence': '0'}, []), (...\n",
              "3  file:/content/data/mini_newsgroups/sci.space/6...  ...  [(token, 0, 9, Newsgroups, {'sentence': '0'}, ...\n",
              "4  file:/content/data/mini_newsgroups/sci.space/6...  ...  [(token, 0, 3, Xref, {'sentence': '0'}, []), (...\n",
              "\n",
              "[5 rows x 5 columns]"
            ]
          },
          "metadata": {},
          "execution_count": 65
        }
      ]
    },
    {
      "cell_type": "code",
      "metadata": {
        "colab": {
          "base_uri": "https://localhost:8080/",
          "height": 285
        },
        "id": "13V326tpOlh0",
        "outputId": "906e4045-9a95-42aa-d055-286195c01d24"
      },
      "source": [
        "from sparknlp.annotator import Lemmatizer\n",
        "\n",
        "\"\"\"\n",
        "Lemmatizer\n",
        "The lemmatizer finds the lemmas for the tokens. Lemmas are the entry words in dictionaries. For example, \"cats\" lemmatizes to \"cat,\" and \"oxen\" lemmatizes to \"ox.\" Loading the lemmatizer requires a dictionary and the following three parameters:\n",
        "\n",
        "inputCols\n",
        "A list of columns to tokenize\n",
        "outputCol\n",
        "The name of the new token column\n",
        "dictionary\n",
        "The resource to be loaded as the lemma dictionary\n",
        "\"\"\"\n",
        "\n",
        "lemmatizer = Lemmatizer() \\\n",
        "  .setInputCols([\"tokens\"]) \\\n",
        "  .setOutputCol(\"lemma\") \\\n",
        "  .setDictionary('en_lemmas.txt', '\\t', ',')\\\n",
        "  .fit(tokens)\n",
        "\n",
        "lemmas = lemmatizer.transform(tokens)\n",
        "lemmas.limit(5).toPandas()"
      ],
      "execution_count": null,
      "outputs": [
        {
          "output_type": "execute_result",
          "data": {
            "text/html": [
              "<div>\n",
              "<style scoped>\n",
              "    .dataframe tbody tr th:only-of-type {\n",
              "        vertical-align: middle;\n",
              "    }\n",
              "\n",
              "    .dataframe tbody tr th {\n",
              "        vertical-align: top;\n",
              "    }\n",
              "\n",
              "    .dataframe thead th {\n",
              "        text-align: right;\n",
              "    }\n",
              "</style>\n",
              "<table border=\"1\" class=\"dataframe\">\n",
              "  <thead>\n",
              "    <tr style=\"text-align: right;\">\n",
              "      <th></th>\n",
              "      <th>path</th>\n",
              "      <th>text</th>\n",
              "      <th>document</th>\n",
              "      <th>sentences</th>\n",
              "      <th>tokens</th>\n",
              "      <th>lemma</th>\n",
              "    </tr>\n",
              "  </thead>\n",
              "  <tbody>\n",
              "    <tr>\n",
              "      <th>0</th>\n",
              "      <td>file:/content/data/mini_newsgroups/sci.space/6...</td>\n",
              "      <td>Newsgroups: sci.space\\nPath: cantaloupe.srv.cs...</td>\n",
              "      <td>[(document, 0, 1834, Newsgroups: sci.space\\nPa...</td>\n",
              "      <td>[(document, 0, 207, Newsgroups: sci.space\\nPat...</td>\n",
              "      <td>[(token, 0, 9, Newsgroups, {'sentence': '0'}, ...</td>\n",
              "      <td>[(token, 0, 9, Newsgroups, {'sentence': '0'}, ...</td>\n",
              "    </tr>\n",
              "    <tr>\n",
              "      <th>1</th>\n",
              "      <td>file:/content/data/mini_newsgroups/sci.space/6...</td>\n",
              "      <td>Xref: cantaloupe.srv.cs.cmu.edu sci.astro:3513...</td>\n",
              "      <td>[(document, 0, 1367, Xref: cantaloupe.srv.cs.c...</td>\n",
              "      <td>[(document, 0, 212, Xref: cantaloupe.srv.cs.cm...</td>\n",
              "      <td>[(token, 0, 3, Xref, {'sentence': '0'}, []), (...</td>\n",
              "      <td>[(token, 0, 3, Xref, {'sentence': '0'}, []), (...</td>\n",
              "    </tr>\n",
              "    <tr>\n",
              "      <th>2</th>\n",
              "      <td>file:/content/data/mini_newsgroups/sci.space/6...</td>\n",
              "      <td>Xref: cantaloupe.srv.cs.cmu.edu sci.environmen...</td>\n",
              "      <td>[(document, 0, 823, Xref: cantaloupe.srv.cs.cm...</td>\n",
              "      <td>[(document, 0, 561, Xref: cantaloupe.srv.cs.cm...</td>\n",
              "      <td>[(token, 0, 3, Xref, {'sentence': '0'}, []), (...</td>\n",
              "      <td>[(token, 0, 3, Xref, {'sentence': '0'}, []), (...</td>\n",
              "    </tr>\n",
              "    <tr>\n",
              "      <th>3</th>\n",
              "      <td>file:/content/data/mini_newsgroups/sci.space/6...</td>\n",
              "      <td>Newsgroups: sci.space\\nPath: cantaloupe.srv.cs...</td>\n",
              "      <td>[(document, 0, 1693, Newsgroups: sci.space\\nPa...</td>\n",
              "      <td>[(document, 0, 917, Newsgroups: sci.space\\nPat...</td>\n",
              "      <td>[(token, 0, 9, Newsgroups, {'sentence': '0'}, ...</td>\n",
              "      <td>[(token, 0, 9, Newsgroups, {'sentence': '0'}, ...</td>\n",
              "    </tr>\n",
              "    <tr>\n",
              "      <th>4</th>\n",
              "      <td>file:/content/data/mini_newsgroups/sci.space/6...</td>\n",
              "      <td>Xref: cantaloupe.srv.cs.cmu.edu sci.environmen...</td>\n",
              "      <td>[(document, 0, 1537, Xref: cantaloupe.srv.cs.c...</td>\n",
              "      <td>[(document, 0, 666, Xref: cantaloupe.srv.cs.cm...</td>\n",
              "      <td>[(token, 0, 3, Xref, {'sentence': '0'}, []), (...</td>\n",
              "      <td>[(token, 0, 3, Xref, {'sentence': '0'}, []), (...</td>\n",
              "    </tr>\n",
              "  </tbody>\n",
              "</table>\n",
              "</div>"
            ],
            "text/plain": [
              "                                                path  ...                                              lemma\n",
              "0  file:/content/data/mini_newsgroups/sci.space/6...  ...  [(token, 0, 9, Newsgroups, {'sentence': '0'}, ...\n",
              "1  file:/content/data/mini_newsgroups/sci.space/6...  ...  [(token, 0, 3, Xref, {'sentence': '0'}, []), (...\n",
              "2  file:/content/data/mini_newsgroups/sci.space/6...  ...  [(token, 0, 3, Xref, {'sentence': '0'}, []), (...\n",
              "3  file:/content/data/mini_newsgroups/sci.space/6...  ...  [(token, 0, 9, Newsgroups, {'sentence': '0'}, ...\n",
              "4  file:/content/data/mini_newsgroups/sci.space/6...  ...  [(token, 0, 3, Xref, {'sentence': '0'}, []), (...\n",
              "\n",
              "[5 rows x 6 columns]"
            ]
          },
          "metadata": {},
          "execution_count": 66
        }
      ]
    },
    {
      "cell_type": "code",
      "metadata": {
        "colab": {
          "base_uri": "https://localhost:8080/",
          "height": 335
        },
        "id": "BvwvrwJyOyvb",
        "outputId": "1165be8f-a58e-448d-e9e8-a0586406890e"
      },
      "source": [
        "from sparknlp.annotator import PerceptronModel\n",
        "\n",
        "pos_tagger = PerceptronModel.pretrained() \\\n",
        "  .setInputCols([\"tokens\", \"sentences\"]) \\\n",
        "  .setOutputCol(\"pos\")\n",
        "\n",
        "postags = pos_tagger.transform(lemmas)\n",
        "postags.limit(5).toPandas()"
      ],
      "execution_count": null,
      "outputs": [
        {
          "output_type": "stream",
          "name": "stdout",
          "text": [
            "pos_anc download started this may take some time.\n",
            "Approximate size to download 4.3 MB\n",
            "[OK!]\n"
          ]
        },
        {
          "output_type": "execute_result",
          "data": {
            "text/html": [
              "<div>\n",
              "<style scoped>\n",
              "    .dataframe tbody tr th:only-of-type {\n",
              "        vertical-align: middle;\n",
              "    }\n",
              "\n",
              "    .dataframe tbody tr th {\n",
              "        vertical-align: top;\n",
              "    }\n",
              "\n",
              "    .dataframe thead th {\n",
              "        text-align: right;\n",
              "    }\n",
              "</style>\n",
              "<table border=\"1\" class=\"dataframe\">\n",
              "  <thead>\n",
              "    <tr style=\"text-align: right;\">\n",
              "      <th></th>\n",
              "      <th>path</th>\n",
              "      <th>text</th>\n",
              "      <th>document</th>\n",
              "      <th>sentences</th>\n",
              "      <th>tokens</th>\n",
              "      <th>lemma</th>\n",
              "      <th>pos</th>\n",
              "    </tr>\n",
              "  </thead>\n",
              "  <tbody>\n",
              "    <tr>\n",
              "      <th>0</th>\n",
              "      <td>file:/content/data/mini_newsgroups/sci.space/6...</td>\n",
              "      <td>Newsgroups: sci.space\\nPath: cantaloupe.srv.cs...</td>\n",
              "      <td>[(document, 0, 1834, Newsgroups: sci.space\\nPa...</td>\n",
              "      <td>[(document, 0, 207, Newsgroups: sci.space\\nPat...</td>\n",
              "      <td>[(token, 0, 9, Newsgroups, {'sentence': '0'}, ...</td>\n",
              "      <td>[(token, 0, 9, Newsgroups, {'sentence': '0'}, ...</td>\n",
              "      <td>[(pos, 0, 9, NNP, {'word': 'Newsgroups'}, []),...</td>\n",
              "    </tr>\n",
              "    <tr>\n",
              "      <th>1</th>\n",
              "      <td>file:/content/data/mini_newsgroups/sci.space/6...</td>\n",
              "      <td>Xref: cantaloupe.srv.cs.cmu.edu sci.astro:3513...</td>\n",
              "      <td>[(document, 0, 1367, Xref: cantaloupe.srv.cs.c...</td>\n",
              "      <td>[(document, 0, 212, Xref: cantaloupe.srv.cs.cm...</td>\n",
              "      <td>[(token, 0, 3, Xref, {'sentence': '0'}, []), (...</td>\n",
              "      <td>[(token, 0, 3, Xref, {'sentence': '0'}, []), (...</td>\n",
              "      <td>[(pos, 0, 3, NNP, {'word': 'Xref'}, []), (pos,...</td>\n",
              "    </tr>\n",
              "    <tr>\n",
              "      <th>2</th>\n",
              "      <td>file:/content/data/mini_newsgroups/sci.space/6...</td>\n",
              "      <td>Xref: cantaloupe.srv.cs.cmu.edu sci.environmen...</td>\n",
              "      <td>[(document, 0, 823, Xref: cantaloupe.srv.cs.cm...</td>\n",
              "      <td>[(document, 0, 561, Xref: cantaloupe.srv.cs.cm...</td>\n",
              "      <td>[(token, 0, 3, Xref, {'sentence': '0'}, []), (...</td>\n",
              "      <td>[(token, 0, 3, Xref, {'sentence': '0'}, []), (...</td>\n",
              "      <td>[(pos, 0, 3, NNP, {'word': 'Xref'}, []), (pos,...</td>\n",
              "    </tr>\n",
              "    <tr>\n",
              "      <th>3</th>\n",
              "      <td>file:/content/data/mini_newsgroups/sci.space/6...</td>\n",
              "      <td>Newsgroups: sci.space\\nPath: cantaloupe.srv.cs...</td>\n",
              "      <td>[(document, 0, 1693, Newsgroups: sci.space\\nPa...</td>\n",
              "      <td>[(document, 0, 917, Newsgroups: sci.space\\nPat...</td>\n",
              "      <td>[(token, 0, 9, Newsgroups, {'sentence': '0'}, ...</td>\n",
              "      <td>[(token, 0, 9, Newsgroups, {'sentence': '0'}, ...</td>\n",
              "      <td>[(pos, 0, 9, NNP, {'word': 'Newsgroups'}, []),...</td>\n",
              "    </tr>\n",
              "    <tr>\n",
              "      <th>4</th>\n",
              "      <td>file:/content/data/mini_newsgroups/sci.space/6...</td>\n",
              "      <td>Xref: cantaloupe.srv.cs.cmu.edu sci.environmen...</td>\n",
              "      <td>[(document, 0, 1537, Xref: cantaloupe.srv.cs.c...</td>\n",
              "      <td>[(document, 0, 666, Xref: cantaloupe.srv.cs.cm...</td>\n",
              "      <td>[(token, 0, 3, Xref, {'sentence': '0'}, []), (...</td>\n",
              "      <td>[(token, 0, 3, Xref, {'sentence': '0'}, []), (...</td>\n",
              "      <td>[(pos, 0, 3, NNP, {'word': 'Xref'}, []), (pos,...</td>\n",
              "    </tr>\n",
              "  </tbody>\n",
              "</table>\n",
              "</div>"
            ],
            "text/plain": [
              "                                                path  ...                                                pos\n",
              "0  file:/content/data/mini_newsgroups/sci.space/6...  ...  [(pos, 0, 9, NNP, {'word': 'Newsgroups'}, []),...\n",
              "1  file:/content/data/mini_newsgroups/sci.space/6...  ...  [(pos, 0, 3, NNP, {'word': 'Xref'}, []), (pos,...\n",
              "2  file:/content/data/mini_newsgroups/sci.space/6...  ...  [(pos, 0, 3, NNP, {'word': 'Xref'}, []), (pos,...\n",
              "3  file:/content/data/mini_newsgroups/sci.space/6...  ...  [(pos, 0, 9, NNP, {'word': 'Newsgroups'}, []),...\n",
              "4  file:/content/data/mini_newsgroups/sci.space/6...  ...  [(pos, 0, 3, NNP, {'word': 'Xref'}, []), (pos,...\n",
              "\n",
              "[5 rows x 7 columns]"
            ]
          },
          "metadata": {},
          "execution_count": 67
        }
      ]
    },
    {
      "cell_type": "code",
      "metadata": {
        "colab": {
          "base_uri": "https://localhost:8080/",
          "height": 418
        },
        "id": "2lo8GLg6O6tm",
        "outputId": "059e6013-4e0d-4ce9-b830-72c4a47e49d2"
      },
      "source": [
        "from sparknlp.pretrained import PretrainedPipeline\n",
        "\n",
        "pipeline = PretrainedPipeline('explain_document_ml', lang='en')\n",
        "\n",
        "pipeline.transform(texts).limit(5).toPandas()"
      ],
      "execution_count": null,
      "outputs": [
        {
          "output_type": "stream",
          "name": "stdout",
          "text": [
            "explain_document_ml download started this may take some time.\n",
            "Approx size to download 9.4 MB\n",
            "[OK!]\n"
          ]
        },
        {
          "output_type": "execute_result",
          "data": {
            "text/html": [
              "<div>\n",
              "<style scoped>\n",
              "    .dataframe tbody tr th:only-of-type {\n",
              "        vertical-align: middle;\n",
              "    }\n",
              "\n",
              "    .dataframe tbody tr th {\n",
              "        vertical-align: top;\n",
              "    }\n",
              "\n",
              "    .dataframe thead th {\n",
              "        text-align: right;\n",
              "    }\n",
              "</style>\n",
              "<table border=\"1\" class=\"dataframe\">\n",
              "  <thead>\n",
              "    <tr style=\"text-align: right;\">\n",
              "      <th></th>\n",
              "      <th>path</th>\n",
              "      <th>text</th>\n",
              "      <th>document</th>\n",
              "      <th>sentence</th>\n",
              "      <th>token</th>\n",
              "      <th>spell</th>\n",
              "      <th>lemmas</th>\n",
              "      <th>stems</th>\n",
              "      <th>pos</th>\n",
              "    </tr>\n",
              "  </thead>\n",
              "  <tbody>\n",
              "    <tr>\n",
              "      <th>0</th>\n",
              "      <td>file:/content/data/mini_newsgroups/sci.space/6...</td>\n",
              "      <td>Newsgroups: sci.space\\nPath: cantaloupe.srv.cs...</td>\n",
              "      <td>[(document, 0, 1834, Newsgroups: sci.space\\nPa...</td>\n",
              "      <td>[(document, 0, 207, Newsgroups: sci.space\\nPat...</td>\n",
              "      <td>[(token, 0, 9, Newsgroups, {'sentence': '0'}, ...</td>\n",
              "      <td>[(token, 0, 9, Newsgroups, {'sentence': '0', '...</td>\n",
              "      <td>[(token, 0, 9, Newsgroups, {'sentence': '0', '...</td>\n",
              "      <td>[(token, 0, 9, newsgroup, {'sentence': '0', 'c...</td>\n",
              "      <td>[(pos, 0, 9, NNP, {'word': 'Newsgroups'}, []),...</td>\n",
              "    </tr>\n",
              "    <tr>\n",
              "      <th>1</th>\n",
              "      <td>file:/content/data/mini_newsgroups/sci.space/6...</td>\n",
              "      <td>Xref: cantaloupe.srv.cs.cmu.edu sci.astro:3513...</td>\n",
              "      <td>[(document, 0, 1367, Xref: cantaloupe.srv.cs.c...</td>\n",
              "      <td>[(document, 0, 212, Xref: cantaloupe.srv.cs.cm...</td>\n",
              "      <td>[(token, 0, 3, Xref, {'sentence': '0'}, []), (...</td>\n",
              "      <td>[(token, 0, 3, xref, {'sentence': '0', 'confid...</td>\n",
              "      <td>[(token, 0, 3, tref, {'sentence': '0', 'confid...</td>\n",
              "      <td>[(token, 0, 3, pref, {'sentence': '0', 'confid...</td>\n",
              "      <td>[(pos, 0, 3, NN, {'word': 'pref'}, []), (pos, ...</td>\n",
              "    </tr>\n",
              "    <tr>\n",
              "      <th>2</th>\n",
              "      <td>file:/content/data/mini_newsgroups/sci.space/6...</td>\n",
              "      <td>Xref: cantaloupe.srv.cs.cmu.edu sci.environmen...</td>\n",
              "      <td>[(document, 0, 823, Xref: cantaloupe.srv.cs.cm...</td>\n",
              "      <td>[(document, 0, 561, Xref: cantaloupe.srv.cs.cm...</td>\n",
              "      <td>[(token, 0, 3, Xref, {'sentence': '0'}, []), (...</td>\n",
              "      <td>[(token, 0, 3, pref, {'sentence': '0', 'confid...</td>\n",
              "      <td>[(token, 0, 3, xref, {'sentence': '0', 'confid...</td>\n",
              "      <td>[(token, 0, 3, tref, {'sentence': '0', 'confid...</td>\n",
              "      <td>[(pos, 0, 3, NN, {'word': 'pref'}, []), (pos, ...</td>\n",
              "    </tr>\n",
              "    <tr>\n",
              "      <th>3</th>\n",
              "      <td>file:/content/data/mini_newsgroups/sci.space/6...</td>\n",
              "      <td>Newsgroups: sci.space\\nPath: cantaloupe.srv.cs...</td>\n",
              "      <td>[(document, 0, 1693, Newsgroups: sci.space\\nPa...</td>\n",
              "      <td>[(document, 0, 917, Newsgroups: sci.space\\nPat...</td>\n",
              "      <td>[(token, 0, 9, Newsgroups, {'sentence': '0'}, ...</td>\n",
              "      <td>[(token, 0, 9, Newsgroups, {'sentence': '0', '...</td>\n",
              "      <td>[(token, 0, 9, Newsgroups, {'sentence': '0', '...</td>\n",
              "      <td>[(token, 0, 9, newsgroup, {'sentence': '0', 'c...</td>\n",
              "      <td>[(pos, 0, 9, NNP, {'word': 'Newsgroups'}, []),...</td>\n",
              "    </tr>\n",
              "    <tr>\n",
              "      <th>4</th>\n",
              "      <td>file:/content/data/mini_newsgroups/sci.space/6...</td>\n",
              "      <td>Xref: cantaloupe.srv.cs.cmu.edu sci.environmen...</td>\n",
              "      <td>[(document, 0, 1537, Xref: cantaloupe.srv.cs.c...</td>\n",
              "      <td>[(document, 0, 666, Xref: cantaloupe.srv.cs.cm...</td>\n",
              "      <td>[(token, 0, 3, Xref, {'sentence': '0'}, []), (...</td>\n",
              "      <td>[(token, 0, 3, tref, {'sentence': '0', 'confid...</td>\n",
              "      <td>[(token, 0, 3, pref, {'sentence': '0', 'confid...</td>\n",
              "      <td>[(token, 0, 3, pref, {'sentence': '0', 'confid...</td>\n",
              "      <td>[(pos, 0, 3, NN, {'word': 'tref'}, []), (pos, ...</td>\n",
              "    </tr>\n",
              "  </tbody>\n",
              "</table>\n",
              "</div>"
            ],
            "text/plain": [
              "                                                path  ...                                                pos\n",
              "0  file:/content/data/mini_newsgroups/sci.space/6...  ...  [(pos, 0, 9, NNP, {'word': 'Newsgroups'}, []),...\n",
              "1  file:/content/data/mini_newsgroups/sci.space/6...  ...  [(pos, 0, 3, NN, {'word': 'pref'}, []), (pos, ...\n",
              "2  file:/content/data/mini_newsgroups/sci.space/6...  ...  [(pos, 0, 3, NN, {'word': 'pref'}, []), (pos, ...\n",
              "3  file:/content/data/mini_newsgroups/sci.space/6...  ...  [(pos, 0, 9, NNP, {'word': 'Newsgroups'}, []),...\n",
              "4  file:/content/data/mini_newsgroups/sci.space/6...  ...  [(pos, 0, 3, NN, {'word': 'tref'}, []), (pos, ...\n",
              "\n",
              "[5 rows x 9 columns]"
            ]
          },
          "metadata": {},
          "execution_count": 68
        }
      ]
    },
    {
      "cell_type": "code",
      "metadata": {
        "colab": {
          "base_uri": "https://localhost:8080/"
        },
        "id": "ojzsMiWYQEbg",
        "outputId": "f67cd3ad-a394-4f9a-ac0f-3dfd8acb9459"
      },
      "source": [
        "text = texts.first()['text']\n",
        "\n",
        "annotations = pipeline.annotate(text)\n",
        "list(zip(\n",
        "    annotations['token'], \n",
        "    annotations['stems'], \n",
        "    annotations['lemmas']\n",
        "))[100:120]"
      ],
      "execution_count": null,
      "outputs": [
        {
          "output_type": "execute_result",
          "data": {
            "text/plain": [
              "[('>', '>', '>'),\n",
              " ('has', 'ha', 'have'),\n",
              " ('to', 'to', 'to'),\n",
              " ('be', 'be', 'be'),\n",
              " ('carefully', 'carefulli', 'carefully'),\n",
              " ('constrained', 'constrain', 'constrain'),\n",
              " ('.', '.', '.'),\n",
              " ('.', '.', '.'),\n",
              " ('...', '...', '...'),\n",
              " ('No', 'no', 'No'),\n",
              " ('EDO', 'edo', 'EDO'),\n",
              " ('pallets', 'pallet', 'pallet'),\n",
              " (',', ',', ','),\n",
              " ('no', 'no', 'no'),\n",
              " ('spare', 'spare', 'spare'),\n",
              " ('Suits', 'suit', 'Suits'),\n",
              " (',', ',', ','),\n",
              " ('>', '>', '>'),\n",
              " ('no', 'no', 'no'),\n",
              " ('extra', 'extra', 'extra')]"
            ]
          },
          "metadata": {},
          "execution_count": 69
        }
      ]
    },
    {
      "cell_type": "code",
      "metadata": {
        "id": "Gkg0xnIOQHuh"
      },
      "source": [
        "\"\"\"\n",
        "Finisher\n",
        "The annotations are useful for composing NLP steps, but we generally want to take some specific information out to process. The Finisher handles most of these use cases. If you want to get a list of tokens (or stems, or what have you) to use in downstream MLlib stages, the Finisher can do this (see table0320). Let's look at the parameters:\n",
        "\n",
        "inputCols\n",
        "Name of input annotation cols\n",
        "outputCols\n",
        "Name of finisher output cols\n",
        "valueSplitSymbol\n",
        "Character separating annotations\n",
        "annotationSplitSymbol\n",
        "Character separating annotations\n",
        "cleanAnnotations\n",
        "Determines whether to remove annotation columns\n",
        "includeMetadata\n",
        "Annotation metadata format\n",
        "outputAsArray\n",
        "Finisher generates an Array with the results instead of string\n",
        "\"\"\"\n",
        "\n",
        "finisher = Finisher()\\\n",
        "    .setInputCols(['tokens', 'lemma'])\\\n",
        "    .setOutputCols(['tokens', 'lemmata'])\\\n",
        "    .setCleanAnnotations(True)\\\n",
        "    .setOutputAsArray(True)"
      ],
      "execution_count": null,
      "outputs": []
    },
    {
      "cell_type": "code",
      "metadata": {
        "id": "AA96nQ3OQwFy"
      },
      "source": [
        "custom_pipeline = Pipeline(stages=[\n",
        "    document_assembler,\n",
        "    sent_detector,\n",
        "    tokenizer,\n",
        "    lemmatizer,\n",
        "    finisher\n",
        "]).fit(texts)"
      ],
      "execution_count": null,
      "outputs": []
    },
    {
      "cell_type": "code",
      "metadata": {
        "colab": {
          "base_uri": "https://localhost:8080/",
          "height": 202
        },
        "id": "EdTMDjFIQxpE",
        "outputId": "f05d93e3-21eb-4f1c-9867-3881c6451016"
      },
      "source": [
        "custom_pipeline.transform(texts).limit(5).toPandas()"
      ],
      "execution_count": null,
      "outputs": [
        {
          "output_type": "execute_result",
          "data": {
            "text/html": [
              "<div>\n",
              "<style scoped>\n",
              "    .dataframe tbody tr th:only-of-type {\n",
              "        vertical-align: middle;\n",
              "    }\n",
              "\n",
              "    .dataframe tbody tr th {\n",
              "        vertical-align: top;\n",
              "    }\n",
              "\n",
              "    .dataframe thead th {\n",
              "        text-align: right;\n",
              "    }\n",
              "</style>\n",
              "<table border=\"1\" class=\"dataframe\">\n",
              "  <thead>\n",
              "    <tr style=\"text-align: right;\">\n",
              "      <th></th>\n",
              "      <th>path</th>\n",
              "      <th>text</th>\n",
              "      <th>tokens</th>\n",
              "      <th>lemmata</th>\n",
              "    </tr>\n",
              "  </thead>\n",
              "  <tbody>\n",
              "    <tr>\n",
              "      <th>0</th>\n",
              "      <td>file:/content/data/mini_newsgroups/sci.space/6...</td>\n",
              "      <td>Newsgroups: sci.space\\nPath: cantaloupe.srv.cs...</td>\n",
              "      <td>[Newsgroups, :, sci.space, Path, :, cantaloupe...</td>\n",
              "      <td>[Newsgroups, :, sci.space, Path, :, cantaloupe...</td>\n",
              "    </tr>\n",
              "    <tr>\n",
              "      <th>1</th>\n",
              "      <td>file:/content/data/mini_newsgroups/sci.space/6...</td>\n",
              "      <td>Xref: cantaloupe.srv.cs.cmu.edu sci.astro:3513...</td>\n",
              "      <td>[Xref, :, cantaloupe.srv.cs.cmu.edu, sci.astro...</td>\n",
              "      <td>[Xref, :, cantaloupe.srv.cs.cmu.edu, sci.astro...</td>\n",
              "    </tr>\n",
              "    <tr>\n",
              "      <th>2</th>\n",
              "      <td>file:/content/data/mini_newsgroups/sci.space/6...</td>\n",
              "      <td>Xref: cantaloupe.srv.cs.cmu.edu sci.environmen...</td>\n",
              "      <td>[Xref, :, cantaloupe.srv.cs.cmu.edu, sci.envir...</td>\n",
              "      <td>[Xref, :, cantaloupe.srv.cs.cmu.edu, sci.envir...</td>\n",
              "    </tr>\n",
              "    <tr>\n",
              "      <th>3</th>\n",
              "      <td>file:/content/data/mini_newsgroups/sci.space/6...</td>\n",
              "      <td>Newsgroups: sci.space\\nPath: cantaloupe.srv.cs...</td>\n",
              "      <td>[Newsgroups, :, sci.space, Path, :, cantaloupe...</td>\n",
              "      <td>[Newsgroups, :, sci.space, Path, :, cantaloupe...</td>\n",
              "    </tr>\n",
              "    <tr>\n",
              "      <th>4</th>\n",
              "      <td>file:/content/data/mini_newsgroups/sci.space/6...</td>\n",
              "      <td>Xref: cantaloupe.srv.cs.cmu.edu sci.environmen...</td>\n",
              "      <td>[Xref, :, cantaloupe.srv.cs.cmu.edu, sci.envir...</td>\n",
              "      <td>[Xref, :, cantaloupe.srv.cs.cmu.edu, sci.envir...</td>\n",
              "    </tr>\n",
              "  </tbody>\n",
              "</table>\n",
              "</div>"
            ],
            "text/plain": [
              "                                                path  ...                                            lemmata\n",
              "0  file:/content/data/mini_newsgroups/sci.space/6...  ...  [Newsgroups, :, sci.space, Path, :, cantaloupe...\n",
              "1  file:/content/data/mini_newsgroups/sci.space/6...  ...  [Xref, :, cantaloupe.srv.cs.cmu.edu, sci.astro...\n",
              "2  file:/content/data/mini_newsgroups/sci.space/6...  ...  [Xref, :, cantaloupe.srv.cs.cmu.edu, sci.envir...\n",
              "3  file:/content/data/mini_newsgroups/sci.space/6...  ...  [Newsgroups, :, sci.space, Path, :, cantaloupe...\n",
              "4  file:/content/data/mini_newsgroups/sci.space/6...  ...  [Xref, :, cantaloupe.srv.cs.cmu.edu, sci.envir...\n",
              "\n",
              "[5 rows x 4 columns]"
            ]
          },
          "metadata": {},
          "execution_count": 72
        }
      ]
    },
    {
      "cell_type": "code",
      "metadata": {
        "colab": {
          "base_uri": "https://localhost:8080/",
          "height": 202
        },
        "id": "20RayCBfQywQ",
        "outputId": "4b81b12f-13bd-42ce-8360-2ec75f682deb"
      },
      "source": [
        "from pyspark.ml.feature import StopWordsRemover\n",
        "\n",
        "stopwords = StopWordsRemover.loadDefaultStopWords('english')\n",
        "\n",
        "larger_pipeline = Pipeline(stages=[\n",
        "    custom_pipeline,\n",
        "    StopWordsRemover(\n",
        "        inputCol='lemmata', \n",
        "        outputCol='terms', \n",
        "        stopWords=stopwords)\n",
        "]).fit(texts)\n",
        "\n",
        "larger_pipeline.transform(texts).limit(5).toPandas()"
      ],
      "execution_count": null,
      "outputs": [
        {
          "output_type": "execute_result",
          "data": {
            "text/html": [
              "<div>\n",
              "<style scoped>\n",
              "    .dataframe tbody tr th:only-of-type {\n",
              "        vertical-align: middle;\n",
              "    }\n",
              "\n",
              "    .dataframe tbody tr th {\n",
              "        vertical-align: top;\n",
              "    }\n",
              "\n",
              "    .dataframe thead th {\n",
              "        text-align: right;\n",
              "    }\n",
              "</style>\n",
              "<table border=\"1\" class=\"dataframe\">\n",
              "  <thead>\n",
              "    <tr style=\"text-align: right;\">\n",
              "      <th></th>\n",
              "      <th>path</th>\n",
              "      <th>text</th>\n",
              "      <th>tokens</th>\n",
              "      <th>lemmata</th>\n",
              "      <th>terms</th>\n",
              "    </tr>\n",
              "  </thead>\n",
              "  <tbody>\n",
              "    <tr>\n",
              "      <th>0</th>\n",
              "      <td>file:/content/data/mini_newsgroups/sci.space/6...</td>\n",
              "      <td>Newsgroups: sci.space\\nPath: cantaloupe.srv.cs...</td>\n",
              "      <td>[Newsgroups, :, sci.space, Path, :, cantaloupe...</td>\n",
              "      <td>[Newsgroups, :, sci.space, Path, :, cantaloupe...</td>\n",
              "      <td>[Newsgroups, :, sci.space, Path, :, cantaloupe...</td>\n",
              "    </tr>\n",
              "    <tr>\n",
              "      <th>1</th>\n",
              "      <td>file:/content/data/mini_newsgroups/sci.space/6...</td>\n",
              "      <td>Xref: cantaloupe.srv.cs.cmu.edu sci.astro:3513...</td>\n",
              "      <td>[Xref, :, cantaloupe.srv.cs.cmu.edu, sci.astro...</td>\n",
              "      <td>[Xref, :, cantaloupe.srv.cs.cmu.edu, sci.astro...</td>\n",
              "      <td>[Xref, :, cantaloupe.srv.cs.cmu.edu, sci.astro...</td>\n",
              "    </tr>\n",
              "    <tr>\n",
              "      <th>2</th>\n",
              "      <td>file:/content/data/mini_newsgroups/sci.space/6...</td>\n",
              "      <td>Xref: cantaloupe.srv.cs.cmu.edu sci.environmen...</td>\n",
              "      <td>[Xref, :, cantaloupe.srv.cs.cmu.edu, sci.envir...</td>\n",
              "      <td>[Xref, :, cantaloupe.srv.cs.cmu.edu, sci.envir...</td>\n",
              "      <td>[Xref, :, cantaloupe.srv.cs.cmu.edu, sci.envir...</td>\n",
              "    </tr>\n",
              "    <tr>\n",
              "      <th>3</th>\n",
              "      <td>file:/content/data/mini_newsgroups/sci.space/6...</td>\n",
              "      <td>Newsgroups: sci.space\\nPath: cantaloupe.srv.cs...</td>\n",
              "      <td>[Newsgroups, :, sci.space, Path, :, cantaloupe...</td>\n",
              "      <td>[Newsgroups, :, sci.space, Path, :, cantaloupe...</td>\n",
              "      <td>[Newsgroups, :, sci.space, Path, :, cantaloupe...</td>\n",
              "    </tr>\n",
              "    <tr>\n",
              "      <th>4</th>\n",
              "      <td>file:/content/data/mini_newsgroups/sci.space/6...</td>\n",
              "      <td>Xref: cantaloupe.srv.cs.cmu.edu sci.environmen...</td>\n",
              "      <td>[Xref, :, cantaloupe.srv.cs.cmu.edu, sci.envir...</td>\n",
              "      <td>[Xref, :, cantaloupe.srv.cs.cmu.edu, sci.envir...</td>\n",
              "      <td>[Xref, :, cantaloupe.srv.cs.cmu.edu, sci.envir...</td>\n",
              "    </tr>\n",
              "  </tbody>\n",
              "</table>\n",
              "</div>"
            ],
            "text/plain": [
              "                                                path  ...                                              terms\n",
              "0  file:/content/data/mini_newsgroups/sci.space/6...  ...  [Newsgroups, :, sci.space, Path, :, cantaloupe...\n",
              "1  file:/content/data/mini_newsgroups/sci.space/6...  ...  [Xref, :, cantaloupe.srv.cs.cmu.edu, sci.astro...\n",
              "2  file:/content/data/mini_newsgroups/sci.space/6...  ...  [Xref, :, cantaloupe.srv.cs.cmu.edu, sci.envir...\n",
              "3  file:/content/data/mini_newsgroups/sci.space/6...  ...  [Newsgroups, :, sci.space, Path, :, cantaloupe...\n",
              "4  file:/content/data/mini_newsgroups/sci.space/6...  ...  [Xref, :, cantaloupe.srv.cs.cmu.edu, sci.envir...\n",
              "\n",
              "[5 rows x 5 columns]"
            ]
          },
          "metadata": {},
          "execution_count": 73
        }
      ]
    },
    {
      "cell_type": "code",
      "metadata": {
        "colab": {
          "base_uri": "https://localhost:8080/",
          "height": 101
        },
        "id": "mFSFWLBnQ5bx",
        "outputId": "f9547ae0-9995-4723-ea5d-747e77134f5f"
      },
      "source": [
        "### TOPIC MODELING Structure ###\n",
        "\n",
        "\"\"\"\n",
        "document_assembler = ???\n",
        "sent_detector = ???\n",
        "tokenizer = ???\n",
        "lemmatizer = ???\n",
        "normalizer = ???\n",
        "finisher = ???\n",
        "sparknlp_pipeline = ???\n",
        "\n",
        "stopwords = ???\n",
        "stopword_remover = ??? # use outputCol='terms'\n",
        "\n",
        "text_processing_pipeline = ??? # first stage is sparknlp_pipeline\n",
        "\n",
        "from pyspark.ml.feature import CountVectorizer, IDF\n",
        "from pyspark.ml.clustering import LDA\n",
        "\n",
        "tf = CountVectorizer(inputCol='terms', outputCol='tf')\n",
        "idf = IDF(inputCol='tf', outputCol='tfidf')\n",
        "lda = LDA(k=10, seed=123, featuresCol='tfidf')\n",
        "\n",
        "pipeline = Pipeline(stages=[\n",
        "    text_processing_pipeline,\n",
        "    tf,\n",
        "    idf,\n",
        "    lda\n",
        "])\n",
        "\n",
        "model = pipeline.fit(texts)\n",
        "\n",
        "tf_model = model.stages[-3]\n",
        "lda_model = model.stages[-1]\n",
        "\n",
        "topics = lda_model.describeTopics().collect()\n",
        "for k, topic in enumerate(topics):\n",
        "    print('Topic', k)\n",
        "    for ix, wt in zip(topic['termIndices'], topic['termWeights']):\n",
        "        print(ix, tf_model.vocabulary[ix], wt)\n",
        "    print('#' * 50)\n",
        "\n",
        "\"\"\""
      ],
      "execution_count": null,
      "outputs": [
        {
          "output_type": "execute_result",
          "data": {
            "application/vnd.google.colaboratory.intrinsic+json": {
              "type": "string"
            },
            "text/plain": [
              "\"\\ndocument_assembler = ???\\nsent_detector = ???\\ntokenizer = ???\\nlemmatizer = ???\\nnormalizer = ???\\nfinisher = ???\\nsparknlp_pipeline = ???\\n\\nstopwords = ???\\nstopword_remover = ??? # use outputCol='terms'\\n\\ntext_processing_pipeline = ??? # first stage is sparknlp_pipeline\\n\\nfrom pyspark.ml.feature import CountVectorizer, IDF\\nfrom pyspark.ml.clustering import LDA\\n\\ntf = CountVectorizer(inputCol='terms', outputCol='tf')\\nidf = IDF(inputCol='tf', outputCol='tfidf')\\nlda = LDA(k=10, seed=123, featuresCol='tfidf')\\n\\npipeline = Pipeline(stages=[\\n    text_processing_pipeline,\\n    tf,\\n    idf,\\n    lda\\n])\\n\\nmodel = pipeline.fit(texts)\\n\\ntf_model = model.stages[-3]\\nlda_model = model.stages[-1]\\n\\ntopics = lda_model.describeTopics().collect()\\nfor k, topic in enumerate(topics):\\n    print('Topic', k)\\n    for ix, wt in zip(topic['termIndices'], topic['termWeights']):\\n        print(ix, tf_model.vocabulary[ix], wt)\\n    print('#' * 50)\\n\\n\""
            ]
          },
          "metadata": {},
          "execution_count": 75
        }
      ]
    },
    {
      "cell_type": "code",
      "metadata": {
        "id": "9-I3dpPBRQPC"
      },
      "source": [
        ""
      ],
      "execution_count": null,
      "outputs": []
    },
    {
      "cell_type": "code",
      "metadata": {
        "id": "71vlFbVEOLmW"
      },
      "source": [
        ""
      ],
      "execution_count": null,
      "outputs": []
    },
    {
      "cell_type": "markdown",
      "metadata": {
        "id": "qfsePCpnKbY7"
      },
      "source": [
        "# STEP 06. SparkSQL & SparkMLlib Tutorial"
      ]
    },
    {
      "cell_type": "code",
      "metadata": {
        "id": "o-NbosMCKiTl"
      },
      "source": [
        "from pyspark.sql.types import *"
      ],
      "execution_count": null,
      "outputs": []
    },
    {
      "cell_type": "code",
      "metadata": {
        "id": "K26swF__Kjzq"
      },
      "source": [
        "schema = StructType([\n",
        "    StructField('sepal_length', DoubleType(), nullable=False),\n",
        "    StructField('sepal_width', DoubleType(), nullable=False),\n",
        "    StructField('petal_length', DoubleType(), nullable=False),\n",
        "    StructField('petal_width', DoubleType(), nullable=False),\n",
        "    StructField('class', StringType(), nullable=False)\n",
        "])"
      ],
      "execution_count": null,
      "outputs": []
    },
    {
      "cell_type": "code",
      "metadata": {
        "colab": {
          "base_uri": "https://localhost:8080/",
          "height": 202
        },
        "id": "UGbP85VpKk4q",
        "outputId": "88d238e4-736b-4263-9abe-2f271bf595cc"
      },
      "source": [
        "iris = spark.read.csv('./data/iris.data', schema=schema)\n",
        "\n",
        "iris.describe().toPandas()"
      ],
      "execution_count": null,
      "outputs": [
        {
          "output_type": "execute_result",
          "data": {
            "text/html": [
              "<div>\n",
              "<style scoped>\n",
              "    .dataframe tbody tr th:only-of-type {\n",
              "        vertical-align: middle;\n",
              "    }\n",
              "\n",
              "    .dataframe tbody tr th {\n",
              "        vertical-align: top;\n",
              "    }\n",
              "\n",
              "    .dataframe thead th {\n",
              "        text-align: right;\n",
              "    }\n",
              "</style>\n",
              "<table border=\"1\" class=\"dataframe\">\n",
              "  <thead>\n",
              "    <tr style=\"text-align: right;\">\n",
              "      <th></th>\n",
              "      <th>summary</th>\n",
              "      <th>sepal_length</th>\n",
              "      <th>sepal_width</th>\n",
              "      <th>petal_length</th>\n",
              "      <th>petal_width</th>\n",
              "      <th>class</th>\n",
              "    </tr>\n",
              "  </thead>\n",
              "  <tbody>\n",
              "    <tr>\n",
              "      <th>0</th>\n",
              "      <td>count</td>\n",
              "      <td>150</td>\n",
              "      <td>150</td>\n",
              "      <td>150</td>\n",
              "      <td>150</td>\n",
              "      <td>150</td>\n",
              "    </tr>\n",
              "    <tr>\n",
              "      <th>1</th>\n",
              "      <td>mean</td>\n",
              "      <td>5.843333333333335</td>\n",
              "      <td>3.0540000000000007</td>\n",
              "      <td>3.7586666666666693</td>\n",
              "      <td>1.1986666666666672</td>\n",
              "      <td>None</td>\n",
              "    </tr>\n",
              "    <tr>\n",
              "      <th>2</th>\n",
              "      <td>stddev</td>\n",
              "      <td>0.8280661279778637</td>\n",
              "      <td>0.43359431136217375</td>\n",
              "      <td>1.764420419952262</td>\n",
              "      <td>0.7631607417008414</td>\n",
              "      <td>None</td>\n",
              "    </tr>\n",
              "    <tr>\n",
              "      <th>3</th>\n",
              "      <td>min</td>\n",
              "      <td>4.3</td>\n",
              "      <td>2.0</td>\n",
              "      <td>1.0</td>\n",
              "      <td>0.1</td>\n",
              "      <td>Iris-setosa</td>\n",
              "    </tr>\n",
              "    <tr>\n",
              "      <th>4</th>\n",
              "      <td>max</td>\n",
              "      <td>7.9</td>\n",
              "      <td>4.4</td>\n",
              "      <td>6.9</td>\n",
              "      <td>2.5</td>\n",
              "      <td>Iris-virginica</td>\n",
              "    </tr>\n",
              "  </tbody>\n",
              "</table>\n",
              "</div>"
            ],
            "text/plain": [
              "  summary        sepal_length  ...         petal_width           class\n",
              "0   count                 150  ...                 150             150\n",
              "1    mean   5.843333333333335  ...  1.1986666666666672            None\n",
              "2  stddev  0.8280661279778637  ...  0.7631607417008414            None\n",
              "3     min                 4.3  ...                 0.1     Iris-setosa\n",
              "4     max                 7.9  ...                 2.5  Iris-virginica\n",
              "\n",
              "[5 rows x 6 columns]"
            ]
          },
          "metadata": {},
          "execution_count": 38
        }
      ]
    },
    {
      "cell_type": "code",
      "metadata": {
        "colab": {
          "base_uri": "https://localhost:8080/",
          "height": 141
        },
        "id": "5fEQx_-1Kqh5",
        "outputId": "69d21258-1ebd-404f-8366-f6cb1ff38b11"
      },
      "source": [
        "iris.select('class').distinct().toPandas()"
      ],
      "execution_count": null,
      "outputs": [
        {
          "output_type": "execute_result",
          "data": {
            "text/html": [
              "<div>\n",
              "<style scoped>\n",
              "    .dataframe tbody tr th:only-of-type {\n",
              "        vertical-align: middle;\n",
              "    }\n",
              "\n",
              "    .dataframe tbody tr th {\n",
              "        vertical-align: top;\n",
              "    }\n",
              "\n",
              "    .dataframe thead th {\n",
              "        text-align: right;\n",
              "    }\n",
              "</style>\n",
              "<table border=\"1\" class=\"dataframe\">\n",
              "  <thead>\n",
              "    <tr style=\"text-align: right;\">\n",
              "      <th></th>\n",
              "      <th>class</th>\n",
              "    </tr>\n",
              "  </thead>\n",
              "  <tbody>\n",
              "    <tr>\n",
              "      <th>0</th>\n",
              "      <td>Iris-virginica</td>\n",
              "    </tr>\n",
              "    <tr>\n",
              "      <th>1</th>\n",
              "      <td>Iris-setosa</td>\n",
              "    </tr>\n",
              "    <tr>\n",
              "      <th>2</th>\n",
              "      <td>Iris-versicolor</td>\n",
              "    </tr>\n",
              "  </tbody>\n",
              "</table>\n",
              "</div>"
            ],
            "text/plain": [
              "             class\n",
              "0   Iris-virginica\n",
              "1      Iris-setosa\n",
              "2  Iris-versicolor"
            ]
          },
          "metadata": {},
          "execution_count": 39
        }
      ]
    },
    {
      "cell_type": "code",
      "metadata": {
        "id": "2SVLO3d4Kvcu"
      },
      "source": [
        "iris.registerTempTable('iris')"
      ],
      "execution_count": null,
      "outputs": []
    },
    {
      "cell_type": "code",
      "metadata": {
        "colab": {
          "base_uri": "https://localhost:8080/",
          "height": 202
        },
        "id": "KhdPPxYwKwpL",
        "outputId": "dbbc3c05-41c5-4e30-fe70-388a6a2f86db"
      },
      "source": [
        "spark.sql('''\n",
        "SELECT *\n",
        "FROM iris\n",
        "LIMIT 5\n",
        "''').toPandas()"
      ],
      "execution_count": null,
      "outputs": [
        {
          "output_type": "execute_result",
          "data": {
            "text/html": [
              "<div>\n",
              "<style scoped>\n",
              "    .dataframe tbody tr th:only-of-type {\n",
              "        vertical-align: middle;\n",
              "    }\n",
              "\n",
              "    .dataframe tbody tr th {\n",
              "        vertical-align: top;\n",
              "    }\n",
              "\n",
              "    .dataframe thead th {\n",
              "        text-align: right;\n",
              "    }\n",
              "</style>\n",
              "<table border=\"1\" class=\"dataframe\">\n",
              "  <thead>\n",
              "    <tr style=\"text-align: right;\">\n",
              "      <th></th>\n",
              "      <th>sepal_length</th>\n",
              "      <th>sepal_width</th>\n",
              "      <th>petal_length</th>\n",
              "      <th>petal_width</th>\n",
              "      <th>class</th>\n",
              "    </tr>\n",
              "  </thead>\n",
              "  <tbody>\n",
              "    <tr>\n",
              "      <th>0</th>\n",
              "      <td>5.1</td>\n",
              "      <td>3.5</td>\n",
              "      <td>1.4</td>\n",
              "      <td>0.2</td>\n",
              "      <td>Iris-setosa</td>\n",
              "    </tr>\n",
              "    <tr>\n",
              "      <th>1</th>\n",
              "      <td>4.9</td>\n",
              "      <td>3.0</td>\n",
              "      <td>1.4</td>\n",
              "      <td>0.2</td>\n",
              "      <td>Iris-setosa</td>\n",
              "    </tr>\n",
              "    <tr>\n",
              "      <th>2</th>\n",
              "      <td>4.7</td>\n",
              "      <td>3.2</td>\n",
              "      <td>1.3</td>\n",
              "      <td>0.2</td>\n",
              "      <td>Iris-setosa</td>\n",
              "    </tr>\n",
              "    <tr>\n",
              "      <th>3</th>\n",
              "      <td>4.6</td>\n",
              "      <td>3.1</td>\n",
              "      <td>1.5</td>\n",
              "      <td>0.2</td>\n",
              "      <td>Iris-setosa</td>\n",
              "    </tr>\n",
              "    <tr>\n",
              "      <th>4</th>\n",
              "      <td>5.0</td>\n",
              "      <td>3.6</td>\n",
              "      <td>1.4</td>\n",
              "      <td>0.2</td>\n",
              "      <td>Iris-setosa</td>\n",
              "    </tr>\n",
              "  </tbody>\n",
              "</table>\n",
              "</div>"
            ],
            "text/plain": [
              "   sepal_length  sepal_width  petal_length  petal_width        class\n",
              "0           5.1          3.5           1.4          0.2  Iris-setosa\n",
              "1           4.9          3.0           1.4          0.2  Iris-setosa\n",
              "2           4.7          3.2           1.3          0.2  Iris-setosa\n",
              "3           4.6          3.1           1.5          0.2  Iris-setosa\n",
              "4           5.0          3.6           1.4          0.2  Iris-setosa"
            ]
          },
          "metadata": {},
          "execution_count": 41
        }
      ]
    },
    {
      "cell_type": "code",
      "metadata": {
        "colab": {
          "base_uri": "https://localhost:8080/",
          "height": 211
        },
        "id": "nZ9CEBvAKyL_",
        "outputId": "aeb890c7-40f4-403b-8873-718066d6a760"
      },
      "source": [
        "spark.sql('''\n",
        "SELECT \n",
        "    class, \n",
        "    min(sepal_length), avg(sepal_length), max(sepal_length),\n",
        "    min(sepal_width), avg(sepal_width), max(sepal_width),\n",
        "    min(petal_length), avg(petal_length), max(petal_length),\n",
        "    min(petal_width), avg(petal_width), max(petal_width)\n",
        "FROM iris\n",
        "GROUP BY class\n",
        "''').toPandas()"
      ],
      "execution_count": null,
      "outputs": [
        {
          "output_type": "execute_result",
          "data": {
            "text/html": [
              "<div>\n",
              "<style scoped>\n",
              "    .dataframe tbody tr th:only-of-type {\n",
              "        vertical-align: middle;\n",
              "    }\n",
              "\n",
              "    .dataframe tbody tr th {\n",
              "        vertical-align: top;\n",
              "    }\n",
              "\n",
              "    .dataframe thead th {\n",
              "        text-align: right;\n",
              "    }\n",
              "</style>\n",
              "<table border=\"1\" class=\"dataframe\">\n",
              "  <thead>\n",
              "    <tr style=\"text-align: right;\">\n",
              "      <th></th>\n",
              "      <th>class</th>\n",
              "      <th>min(sepal_length)</th>\n",
              "      <th>avg(sepal_length)</th>\n",
              "      <th>max(sepal_length)</th>\n",
              "      <th>min(sepal_width)</th>\n",
              "      <th>avg(sepal_width)</th>\n",
              "      <th>max(sepal_width)</th>\n",
              "      <th>min(petal_length)</th>\n",
              "      <th>avg(petal_length)</th>\n",
              "      <th>max(petal_length)</th>\n",
              "      <th>min(petal_width)</th>\n",
              "      <th>avg(petal_width)</th>\n",
              "      <th>max(petal_width)</th>\n",
              "    </tr>\n",
              "  </thead>\n",
              "  <tbody>\n",
              "    <tr>\n",
              "      <th>0</th>\n",
              "      <td>Iris-virginica</td>\n",
              "      <td>4.9</td>\n",
              "      <td>6.588</td>\n",
              "      <td>7.9</td>\n",
              "      <td>2.2</td>\n",
              "      <td>2.974</td>\n",
              "      <td>3.8</td>\n",
              "      <td>4.5</td>\n",
              "      <td>5.552</td>\n",
              "      <td>6.9</td>\n",
              "      <td>1.4</td>\n",
              "      <td>2.026</td>\n",
              "      <td>2.5</td>\n",
              "    </tr>\n",
              "    <tr>\n",
              "      <th>1</th>\n",
              "      <td>Iris-setosa</td>\n",
              "      <td>4.3</td>\n",
              "      <td>5.006</td>\n",
              "      <td>5.8</td>\n",
              "      <td>2.3</td>\n",
              "      <td>3.418</td>\n",
              "      <td>4.4</td>\n",
              "      <td>1.0</td>\n",
              "      <td>1.464</td>\n",
              "      <td>1.9</td>\n",
              "      <td>0.1</td>\n",
              "      <td>0.244</td>\n",
              "      <td>0.6</td>\n",
              "    </tr>\n",
              "    <tr>\n",
              "      <th>2</th>\n",
              "      <td>Iris-versicolor</td>\n",
              "      <td>4.9</td>\n",
              "      <td>5.936</td>\n",
              "      <td>7.0</td>\n",
              "      <td>2.0</td>\n",
              "      <td>2.770</td>\n",
              "      <td>3.4</td>\n",
              "      <td>3.0</td>\n",
              "      <td>4.260</td>\n",
              "      <td>5.1</td>\n",
              "      <td>1.0</td>\n",
              "      <td>1.326</td>\n",
              "      <td>1.8</td>\n",
              "    </tr>\n",
              "  </tbody>\n",
              "</table>\n",
              "</div>"
            ],
            "text/plain": [
              "             class  min(sepal_length)  ...  avg(petal_width)  max(petal_width)\n",
              "0   Iris-virginica                4.9  ...             2.026               2.5\n",
              "1      Iris-setosa                4.3  ...             0.244               0.6\n",
              "2  Iris-versicolor                4.9  ...             1.326               1.8\n",
              "\n",
              "[3 rows x 13 columns]"
            ]
          },
          "metadata": {},
          "execution_count": 42
        }
      ]
    },
    {
      "cell_type": "code",
      "metadata": {
        "colab": {
          "base_uri": "https://localhost:8080/",
          "height": 211
        },
        "id": "MGD-oxbILj0p",
        "outputId": "5e2d7fd9-73b7-4138-b290-5246752cc1d7"
      },
      "source": [
        "from pyspark.ml.feature import SQLTransformer\n",
        "\n",
        "statement = '''\n",
        "SELECT \n",
        "    class, \n",
        "    min(sepal_length), avg(sepal_length), max(sepal_length),\n",
        "    min(sepal_width), avg(sepal_width), max(sepal_width),\n",
        "    min(petal_length), avg(petal_length), max(petal_length),\n",
        "    min(petal_width), avg(petal_width), max(petal_width)\n",
        "FROM iris\n",
        "GROUP BY class\n",
        "'''\n",
        "\n",
        "sql_transformer = SQLTransformer(statement=statement)\n",
        "\n",
        "sql_transformer.transform(iris).toPandas()"
      ],
      "execution_count": null,
      "outputs": [
        {
          "output_type": "execute_result",
          "data": {
            "text/html": [
              "<div>\n",
              "<style scoped>\n",
              "    .dataframe tbody tr th:only-of-type {\n",
              "        vertical-align: middle;\n",
              "    }\n",
              "\n",
              "    .dataframe tbody tr th {\n",
              "        vertical-align: top;\n",
              "    }\n",
              "\n",
              "    .dataframe thead th {\n",
              "        text-align: right;\n",
              "    }\n",
              "</style>\n",
              "<table border=\"1\" class=\"dataframe\">\n",
              "  <thead>\n",
              "    <tr style=\"text-align: right;\">\n",
              "      <th></th>\n",
              "      <th>class</th>\n",
              "      <th>min(sepal_length)</th>\n",
              "      <th>avg(sepal_length)</th>\n",
              "      <th>max(sepal_length)</th>\n",
              "      <th>min(sepal_width)</th>\n",
              "      <th>avg(sepal_width)</th>\n",
              "      <th>max(sepal_width)</th>\n",
              "      <th>min(petal_length)</th>\n",
              "      <th>avg(petal_length)</th>\n",
              "      <th>max(petal_length)</th>\n",
              "      <th>min(petal_width)</th>\n",
              "      <th>avg(petal_width)</th>\n",
              "      <th>max(petal_width)</th>\n",
              "    </tr>\n",
              "  </thead>\n",
              "  <tbody>\n",
              "    <tr>\n",
              "      <th>0</th>\n",
              "      <td>Iris-virginica</td>\n",
              "      <td>4.9</td>\n",
              "      <td>6.588</td>\n",
              "      <td>7.9</td>\n",
              "      <td>2.2</td>\n",
              "      <td>2.974</td>\n",
              "      <td>3.8</td>\n",
              "      <td>4.5</td>\n",
              "      <td>5.552</td>\n",
              "      <td>6.9</td>\n",
              "      <td>1.4</td>\n",
              "      <td>2.026</td>\n",
              "      <td>2.5</td>\n",
              "    </tr>\n",
              "    <tr>\n",
              "      <th>1</th>\n",
              "      <td>Iris-setosa</td>\n",
              "      <td>4.3</td>\n",
              "      <td>5.006</td>\n",
              "      <td>5.8</td>\n",
              "      <td>2.3</td>\n",
              "      <td>3.418</td>\n",
              "      <td>4.4</td>\n",
              "      <td>1.0</td>\n",
              "      <td>1.464</td>\n",
              "      <td>1.9</td>\n",
              "      <td>0.1</td>\n",
              "      <td>0.244</td>\n",
              "      <td>0.6</td>\n",
              "    </tr>\n",
              "    <tr>\n",
              "      <th>2</th>\n",
              "      <td>Iris-versicolor</td>\n",
              "      <td>4.9</td>\n",
              "      <td>5.936</td>\n",
              "      <td>7.0</td>\n",
              "      <td>2.0</td>\n",
              "      <td>2.770</td>\n",
              "      <td>3.4</td>\n",
              "      <td>3.0</td>\n",
              "      <td>4.260</td>\n",
              "      <td>5.1</td>\n",
              "      <td>1.0</td>\n",
              "      <td>1.326</td>\n",
              "      <td>1.8</td>\n",
              "    </tr>\n",
              "  </tbody>\n",
              "</table>\n",
              "</div>"
            ],
            "text/plain": [
              "             class  min(sepal_length)  ...  avg(petal_width)  max(petal_width)\n",
              "0   Iris-virginica                4.9  ...             2.026               2.5\n",
              "1      Iris-setosa                4.3  ...             0.244               0.6\n",
              "2  Iris-versicolor                4.9  ...             1.326               1.8\n",
              "\n",
              "[3 rows x 13 columns]"
            ]
          },
          "metadata": {},
          "execution_count": 44
        }
      ]
    },
    {
      "cell_type": "code",
      "metadata": {
        "colab": {
          "base_uri": "https://localhost:8080/",
          "height": 202
        },
        "id": "ruj-7zynLpLu",
        "outputId": "be068cbf-88bb-4ade-e36d-5284afb8db49"
      },
      "source": [
        "from pyspark.ml.feature import Binarizer\n",
        "\n",
        "\"\"\"\n",
        "Binarizer\n",
        "The Binarizer is a Transformer that applies a threshold to a numeric field, turning it into 0s (when below the threshold) and 1s (when above the threshold). It takes three parameters:\n",
        "\n",
        "inputCol\n",
        "The column to be binarized\n",
        "outputCol\n",
        "The column containing the binarized values\n",
        "threshold\n",
        "The threshold we will apply\n",
        "\"\"\"\n",
        "\n",
        "binarizer = Binarizer(\n",
        "    inputCol='sepal_length', \n",
        "    outputCol='sepal_length_above_5', \n",
        "    threshold=5.0\n",
        ")\n",
        "\n",
        "binarizer.transform(iris).limit(5).toPandas()"
      ],
      "execution_count": null,
      "outputs": [
        {
          "output_type": "execute_result",
          "data": {
            "text/html": [
              "<div>\n",
              "<style scoped>\n",
              "    .dataframe tbody tr th:only-of-type {\n",
              "        vertical-align: middle;\n",
              "    }\n",
              "\n",
              "    .dataframe tbody tr th {\n",
              "        vertical-align: top;\n",
              "    }\n",
              "\n",
              "    .dataframe thead th {\n",
              "        text-align: right;\n",
              "    }\n",
              "</style>\n",
              "<table border=\"1\" class=\"dataframe\">\n",
              "  <thead>\n",
              "    <tr style=\"text-align: right;\">\n",
              "      <th></th>\n",
              "      <th>sepal_length</th>\n",
              "      <th>sepal_width</th>\n",
              "      <th>petal_length</th>\n",
              "      <th>petal_width</th>\n",
              "      <th>class</th>\n",
              "      <th>sepal_length_above_5</th>\n",
              "    </tr>\n",
              "  </thead>\n",
              "  <tbody>\n",
              "    <tr>\n",
              "      <th>0</th>\n",
              "      <td>5.1</td>\n",
              "      <td>3.5</td>\n",
              "      <td>1.4</td>\n",
              "      <td>0.2</td>\n",
              "      <td>Iris-setosa</td>\n",
              "      <td>1.0</td>\n",
              "    </tr>\n",
              "    <tr>\n",
              "      <th>1</th>\n",
              "      <td>4.9</td>\n",
              "      <td>3.0</td>\n",
              "      <td>1.4</td>\n",
              "      <td>0.2</td>\n",
              "      <td>Iris-setosa</td>\n",
              "      <td>0.0</td>\n",
              "    </tr>\n",
              "    <tr>\n",
              "      <th>2</th>\n",
              "      <td>4.7</td>\n",
              "      <td>3.2</td>\n",
              "      <td>1.3</td>\n",
              "      <td>0.2</td>\n",
              "      <td>Iris-setosa</td>\n",
              "      <td>0.0</td>\n",
              "    </tr>\n",
              "    <tr>\n",
              "      <th>3</th>\n",
              "      <td>4.6</td>\n",
              "      <td>3.1</td>\n",
              "      <td>1.5</td>\n",
              "      <td>0.2</td>\n",
              "      <td>Iris-setosa</td>\n",
              "      <td>0.0</td>\n",
              "    </tr>\n",
              "    <tr>\n",
              "      <th>4</th>\n",
              "      <td>5.0</td>\n",
              "      <td>3.6</td>\n",
              "      <td>1.4</td>\n",
              "      <td>0.2</td>\n",
              "      <td>Iris-setosa</td>\n",
              "      <td>0.0</td>\n",
              "    </tr>\n",
              "  </tbody>\n",
              "</table>\n",
              "</div>"
            ],
            "text/plain": [
              "   sepal_length  sepal_width  ...        class  sepal_length_above_5\n",
              "0           5.1          3.5  ...  Iris-setosa                   1.0\n",
              "1           4.9          3.0  ...  Iris-setosa                   0.0\n",
              "2           4.7          3.2  ...  Iris-setosa                   0.0\n",
              "3           4.6          3.1  ...  Iris-setosa                   0.0\n",
              "4           5.0          3.6  ...  Iris-setosa                   0.0\n",
              "\n",
              "[5 rows x 6 columns]"
            ]
          },
          "metadata": {},
          "execution_count": 46
        }
      ]
    },
    {
      "cell_type": "code",
      "metadata": {
        "colab": {
          "base_uri": "https://localhost:8080/",
          "height": 202
        },
        "id": "gMmHfG50Lwwl",
        "outputId": "abaf0d9b-9db3-4803-f26c-326ad7696e64"
      },
      "source": [
        "from pyspark.ml.feature import VectorAssembler\n",
        "\n",
        "\"\"\"\n",
        "VectorAssembler\n",
        "Another import Transformer is the VectorAssembler. It takes a list of numeric and vector-valued columns and constructs a single vector. This is useful because all MLlib's machine learning algorithms expect a single vector-valued input column for features. The VectorAssembler takes two parameters:\n",
        "\n",
        "inputCols\n",
        "The list of columns to be assembled\n",
        "outputCol\n",
        "The column containing the new vectors\n",
        "\"\"\"\n",
        "\n",
        "assembler = VectorAssembler(\n",
        "    inputCols=[\n",
        "        'sepal_length', 'sepal_width', \n",
        "        'petal_length', 'petal_width'\n",
        "    ], \n",
        "    outputCol='features'\n",
        ")\n",
        "\n",
        "iris_w_vecs = assembler.transform(iris).persist()\n",
        "iris_w_vecs.limit(5).toPandas()"
      ],
      "execution_count": null,
      "outputs": [
        {
          "output_type": "execute_result",
          "data": {
            "text/html": [
              "<div>\n",
              "<style scoped>\n",
              "    .dataframe tbody tr th:only-of-type {\n",
              "        vertical-align: middle;\n",
              "    }\n",
              "\n",
              "    .dataframe tbody tr th {\n",
              "        vertical-align: top;\n",
              "    }\n",
              "\n",
              "    .dataframe thead th {\n",
              "        text-align: right;\n",
              "    }\n",
              "</style>\n",
              "<table border=\"1\" class=\"dataframe\">\n",
              "  <thead>\n",
              "    <tr style=\"text-align: right;\">\n",
              "      <th></th>\n",
              "      <th>sepal_length</th>\n",
              "      <th>sepal_width</th>\n",
              "      <th>petal_length</th>\n",
              "      <th>petal_width</th>\n",
              "      <th>class</th>\n",
              "      <th>features</th>\n",
              "    </tr>\n",
              "  </thead>\n",
              "  <tbody>\n",
              "    <tr>\n",
              "      <th>0</th>\n",
              "      <td>5.1</td>\n",
              "      <td>3.5</td>\n",
              "      <td>1.4</td>\n",
              "      <td>0.2</td>\n",
              "      <td>Iris-setosa</td>\n",
              "      <td>[5.1, 3.5, 1.4, 0.2]</td>\n",
              "    </tr>\n",
              "    <tr>\n",
              "      <th>1</th>\n",
              "      <td>4.9</td>\n",
              "      <td>3.0</td>\n",
              "      <td>1.4</td>\n",
              "      <td>0.2</td>\n",
              "      <td>Iris-setosa</td>\n",
              "      <td>[4.9, 3.0, 1.4, 0.2]</td>\n",
              "    </tr>\n",
              "    <tr>\n",
              "      <th>2</th>\n",
              "      <td>4.7</td>\n",
              "      <td>3.2</td>\n",
              "      <td>1.3</td>\n",
              "      <td>0.2</td>\n",
              "      <td>Iris-setosa</td>\n",
              "      <td>[4.7, 3.2, 1.3, 0.2]</td>\n",
              "    </tr>\n",
              "    <tr>\n",
              "      <th>3</th>\n",
              "      <td>4.6</td>\n",
              "      <td>3.1</td>\n",
              "      <td>1.5</td>\n",
              "      <td>0.2</td>\n",
              "      <td>Iris-setosa</td>\n",
              "      <td>[4.6, 3.1, 1.5, 0.2]</td>\n",
              "    </tr>\n",
              "    <tr>\n",
              "      <th>4</th>\n",
              "      <td>5.0</td>\n",
              "      <td>3.6</td>\n",
              "      <td>1.4</td>\n",
              "      <td>0.2</td>\n",
              "      <td>Iris-setosa</td>\n",
              "      <td>[5.0, 3.6, 1.4, 0.2]</td>\n",
              "    </tr>\n",
              "  </tbody>\n",
              "</table>\n",
              "</div>"
            ],
            "text/plain": [
              "   sepal_length  sepal_width  ...        class              features\n",
              "0           5.1          3.5  ...  Iris-setosa  [5.1, 3.5, 1.4, 0.2]\n",
              "1           4.9          3.0  ...  Iris-setosa  [4.9, 3.0, 1.4, 0.2]\n",
              "2           4.7          3.2  ...  Iris-setosa  [4.7, 3.2, 1.3, 0.2]\n",
              "3           4.6          3.1  ...  Iris-setosa  [4.6, 3.1, 1.5, 0.2]\n",
              "4           5.0          3.6  ...  Iris-setosa  [5.0, 3.6, 1.4, 0.2]\n",
              "\n",
              "[5 rows x 6 columns]"
            ]
          },
          "metadata": {},
          "execution_count": 48
        }
      ]
    },
    {
      "cell_type": "code",
      "metadata": {
        "colab": {
          "base_uri": "https://localhost:8080/",
          "height": 202
        },
        "id": "6Zp4Yeg0MSZh",
        "outputId": "abaa2149-832c-45bb-f6f2-c8c12cbea605"
      },
      "source": [
        "from pyspark.ml.feature import MinMaxScaler\n",
        "\n",
        "\"\"\"\n",
        "MinMaxScaler\n",
        "The MinMaxScaler allows us to scale our data to be between 0 and 1. It takes four parameters:\n",
        "\n",
        "inputCol\n",
        "The column to be scaled\n",
        "outputCol\n",
        "The column containing the scaled values\n",
        "max\n",
        "The new maximum value (optional, default = 1)\n",
        "min\n",
        "The new minimum value (optional, default = 0)\n",
        "\"\"\"\n",
        "\n",
        "scaler = MinMaxScaler(\n",
        "    inputCol='features', \n",
        "    outputCol='petal_length_scaled'\n",
        ")\n",
        "\n",
        "scaler_model = scaler.fit(iris_w_vecs)\n",
        "\n",
        "scaler_model.transform(iris_w_vecs).limit(5).toPandas()"
      ],
      "execution_count": null,
      "outputs": [
        {
          "output_type": "execute_result",
          "data": {
            "text/html": [
              "<div>\n",
              "<style scoped>\n",
              "    .dataframe tbody tr th:only-of-type {\n",
              "        vertical-align: middle;\n",
              "    }\n",
              "\n",
              "    .dataframe tbody tr th {\n",
              "        vertical-align: top;\n",
              "    }\n",
              "\n",
              "    .dataframe thead th {\n",
              "        text-align: right;\n",
              "    }\n",
              "</style>\n",
              "<table border=\"1\" class=\"dataframe\">\n",
              "  <thead>\n",
              "    <tr style=\"text-align: right;\">\n",
              "      <th></th>\n",
              "      <th>sepal_length</th>\n",
              "      <th>sepal_width</th>\n",
              "      <th>petal_length</th>\n",
              "      <th>petal_width</th>\n",
              "      <th>class</th>\n",
              "      <th>features</th>\n",
              "      <th>petal_length_scaled</th>\n",
              "    </tr>\n",
              "  </thead>\n",
              "  <tbody>\n",
              "    <tr>\n",
              "      <th>0</th>\n",
              "      <td>5.1</td>\n",
              "      <td>3.5</td>\n",
              "      <td>1.4</td>\n",
              "      <td>0.2</td>\n",
              "      <td>Iris-setosa</td>\n",
              "      <td>[5.1, 3.5, 1.4, 0.2]</td>\n",
              "      <td>[0.22222222222222213, 0.6249999999999999, 0.06...</td>\n",
              "    </tr>\n",
              "    <tr>\n",
              "      <th>1</th>\n",
              "      <td>4.9</td>\n",
              "      <td>3.0</td>\n",
              "      <td>1.4</td>\n",
              "      <td>0.2</td>\n",
              "      <td>Iris-setosa</td>\n",
              "      <td>[4.9, 3.0, 1.4, 0.2]</td>\n",
              "      <td>[0.1666666666666668, 0.41666666666666663, 0.06...</td>\n",
              "    </tr>\n",
              "    <tr>\n",
              "      <th>2</th>\n",
              "      <td>4.7</td>\n",
              "      <td>3.2</td>\n",
              "      <td>1.3</td>\n",
              "      <td>0.2</td>\n",
              "      <td>Iris-setosa</td>\n",
              "      <td>[4.7, 3.2, 1.3, 0.2]</td>\n",
              "      <td>[0.11111111111111119, 0.5, 0.05084745762711865...</td>\n",
              "    </tr>\n",
              "    <tr>\n",
              "      <th>3</th>\n",
              "      <td>4.6</td>\n",
              "      <td>3.1</td>\n",
              "      <td>1.5</td>\n",
              "      <td>0.2</td>\n",
              "      <td>Iris-setosa</td>\n",
              "      <td>[4.6, 3.1, 1.5, 0.2]</td>\n",
              "      <td>[0.08333333333333327, 0.4583333333333333, 0.08...</td>\n",
              "    </tr>\n",
              "    <tr>\n",
              "      <th>4</th>\n",
              "      <td>5.0</td>\n",
              "      <td>3.6</td>\n",
              "      <td>1.4</td>\n",
              "      <td>0.2</td>\n",
              "      <td>Iris-setosa</td>\n",
              "      <td>[5.0, 3.6, 1.4, 0.2]</td>\n",
              "      <td>[0.19444444444444448, 0.6666666666666666, 0.06...</td>\n",
              "    </tr>\n",
              "  </tbody>\n",
              "</table>\n",
              "</div>"
            ],
            "text/plain": [
              "   sepal_length  ...                                petal_length_scaled\n",
              "0           5.1  ...  [0.22222222222222213, 0.6249999999999999, 0.06...\n",
              "1           4.9  ...  [0.1666666666666668, 0.41666666666666663, 0.06...\n",
              "2           4.7  ...  [0.11111111111111119, 0.5, 0.05084745762711865...\n",
              "3           4.6  ...  [0.08333333333333327, 0.4583333333333333, 0.08...\n",
              "4           5.0  ...  [0.19444444444444448, 0.6666666666666666, 0.06...\n",
              "\n",
              "[5 rows x 7 columns]"
            ]
          },
          "metadata": {},
          "execution_count": 49
        }
      ]
    },
    {
      "cell_type": "code",
      "metadata": {
        "colab": {
          "base_uri": "https://localhost:8080/"
        },
        "id": "UDNAXW2gMqta",
        "outputId": "14786015-4fc4-4171-a64f-9c2befe5135d"
      },
      "source": [
        "from pyspark.ml.feature import StringIndexer, IndexToString\n",
        "\n",
        "\"\"\"\n",
        "StringIndexer\n",
        "Let's build a model! We will try and predict the class from the other features, and we will use a decision tree. First, though, we must convert our target into index values.\n",
        "\n",
        "The StringIndexer Estimator will turn our class values into indices. We want to do this to simplify some of the downstream processing. It is simpler to implement most training algorithms with the assumption that the target is a number. The StringIndexer takes four parameters:\n",
        "\n",
        "- inputCol\n",
        "The column to be indexed\n",
        "- outputCol\n",
        "The column containing the indexed values\n",
        "- handleInvalid\n",
        "The policy for how the model should handle values not seen by the estimator (optional, default = error)\n",
        "- stringOrderType\n",
        "How to order the values to make the indexing deterministic (optional, default = frequencyDesc)\n",
        "\n",
        "We will also want an IndexToString Transformer. This will let us map our predictions, which will be indices, back to string values. IndexToString takes three parameters:\n",
        "\n",
        "- inputCol\n",
        "The column to be mapped\n",
        "- outputCol\n",
        "The column containing the mapped values\n",
        "- labels\n",
        "The mapping from index to value, usually generated by StringIndexer\n",
        "\"\"\"\n",
        "\n",
        "\n",
        "indexer = StringIndexer(inputCol='class', outputCol='class_ix')\n",
        "indexer_model = indexer.fit(iris_w_vecs)\n",
        "\n",
        "index2string = IndexToString(\n",
        "    inputCol=indexer_model.getOrDefault('outputCol'), \n",
        "    outputCol='pred_class', \n",
        "    labels=indexer_model.labels\n",
        ")\n",
        "\n",
        "iris_indexed = indexer_model.transform(iris_w_vecs)\n",
        "iris_indexed.show()"
      ],
      "execution_count": null,
      "outputs": [
        {
          "output_type": "stream",
          "name": "stdout",
          "text": [
            "+------------+-----------+------------+-----------+-----------+-----------------+--------+\n",
            "|sepal_length|sepal_width|petal_length|petal_width|      class|         features|class_ix|\n",
            "+------------+-----------+------------+-----------+-----------+-----------------+--------+\n",
            "|         5.1|        3.5|         1.4|        0.2|Iris-setosa|[5.1,3.5,1.4,0.2]|     0.0|\n",
            "|         4.9|        3.0|         1.4|        0.2|Iris-setosa|[4.9,3.0,1.4,0.2]|     0.0|\n",
            "|         4.7|        3.2|         1.3|        0.2|Iris-setosa|[4.7,3.2,1.3,0.2]|     0.0|\n",
            "|         4.6|        3.1|         1.5|        0.2|Iris-setosa|[4.6,3.1,1.5,0.2]|     0.0|\n",
            "|         5.0|        3.6|         1.4|        0.2|Iris-setosa|[5.0,3.6,1.4,0.2]|     0.0|\n",
            "|         5.4|        3.9|         1.7|        0.4|Iris-setosa|[5.4,3.9,1.7,0.4]|     0.0|\n",
            "|         4.6|        3.4|         1.4|        0.3|Iris-setosa|[4.6,3.4,1.4,0.3]|     0.0|\n",
            "|         5.0|        3.4|         1.5|        0.2|Iris-setosa|[5.0,3.4,1.5,0.2]|     0.0|\n",
            "|         4.4|        2.9|         1.4|        0.2|Iris-setosa|[4.4,2.9,1.4,0.2]|     0.0|\n",
            "|         4.9|        3.1|         1.5|        0.1|Iris-setosa|[4.9,3.1,1.5,0.1]|     0.0|\n",
            "|         5.4|        3.7|         1.5|        0.2|Iris-setosa|[5.4,3.7,1.5,0.2]|     0.0|\n",
            "|         4.8|        3.4|         1.6|        0.2|Iris-setosa|[4.8,3.4,1.6,0.2]|     0.0|\n",
            "|         4.8|        3.0|         1.4|        0.1|Iris-setosa|[4.8,3.0,1.4,0.1]|     0.0|\n",
            "|         4.3|        3.0|         1.1|        0.1|Iris-setosa|[4.3,3.0,1.1,0.1]|     0.0|\n",
            "|         5.8|        4.0|         1.2|        0.2|Iris-setosa|[5.8,4.0,1.2,0.2]|     0.0|\n",
            "|         5.7|        4.4|         1.5|        0.4|Iris-setosa|[5.7,4.4,1.5,0.4]|     0.0|\n",
            "|         5.4|        3.9|         1.3|        0.4|Iris-setosa|[5.4,3.9,1.3,0.4]|     0.0|\n",
            "|         5.1|        3.5|         1.4|        0.3|Iris-setosa|[5.1,3.5,1.4,0.3]|     0.0|\n",
            "|         5.7|        3.8|         1.7|        0.3|Iris-setosa|[5.7,3.8,1.7,0.3]|     0.0|\n",
            "|         5.1|        3.8|         1.5|        0.3|Iris-setosa|[5.1,3.8,1.5,0.3]|     0.0|\n",
            "+------------+-----------+------------+-----------+-----------+-----------------+--------+\n",
            "only showing top 20 rows\n",
            "\n"
          ]
        }
      ]
    },
    {
      "cell_type": "code",
      "metadata": {
        "colab": {
          "base_uri": "https://localhost:8080/",
          "height": 202
        },
        "id": "Hp6W2K9TNYdB",
        "outputId": "3bb19319-8639-4119-81c1-96d33912f127"
      },
      "source": [
        "from pyspark.ml.classification import DecisionTreeClassifier\n",
        "\n",
        "dt_clfr = DecisionTreeClassifier(\n",
        "    featuresCol='features',\n",
        "    labelCol='class_ix',\n",
        "    maxDepth=5,\n",
        "    impurity='gini',\n",
        "    seed=123\n",
        ")\n",
        "\n",
        "dt_clfr_model = dt_clfr.fit(iris_indexed)\n",
        "\n",
        "iris_w_pred = dt_clfr_model.transform(iris_indexed)\n",
        "\n",
        "iris_w_pred.limit(5).toPandas()"
      ],
      "execution_count": null,
      "outputs": [
        {
          "output_type": "execute_result",
          "data": {
            "text/html": [
              "<div>\n",
              "<style scoped>\n",
              "    .dataframe tbody tr th:only-of-type {\n",
              "        vertical-align: middle;\n",
              "    }\n",
              "\n",
              "    .dataframe tbody tr th {\n",
              "        vertical-align: top;\n",
              "    }\n",
              "\n",
              "    .dataframe thead th {\n",
              "        text-align: right;\n",
              "    }\n",
              "</style>\n",
              "<table border=\"1\" class=\"dataframe\">\n",
              "  <thead>\n",
              "    <tr style=\"text-align: right;\">\n",
              "      <th></th>\n",
              "      <th>sepal_length</th>\n",
              "      <th>sepal_width</th>\n",
              "      <th>petal_length</th>\n",
              "      <th>petal_width</th>\n",
              "      <th>class</th>\n",
              "      <th>features</th>\n",
              "      <th>class_ix</th>\n",
              "      <th>rawPrediction</th>\n",
              "      <th>probability</th>\n",
              "      <th>prediction</th>\n",
              "    </tr>\n",
              "  </thead>\n",
              "  <tbody>\n",
              "    <tr>\n",
              "      <th>0</th>\n",
              "      <td>5.1</td>\n",
              "      <td>3.5</td>\n",
              "      <td>1.4</td>\n",
              "      <td>0.2</td>\n",
              "      <td>Iris-setosa</td>\n",
              "      <td>[5.1, 3.5, 1.4, 0.2]</td>\n",
              "      <td>0.0</td>\n",
              "      <td>[50.0, 0.0, 0.0]</td>\n",
              "      <td>[1.0, 0.0, 0.0]</td>\n",
              "      <td>0.0</td>\n",
              "    </tr>\n",
              "    <tr>\n",
              "      <th>1</th>\n",
              "      <td>4.9</td>\n",
              "      <td>3.0</td>\n",
              "      <td>1.4</td>\n",
              "      <td>0.2</td>\n",
              "      <td>Iris-setosa</td>\n",
              "      <td>[4.9, 3.0, 1.4, 0.2]</td>\n",
              "      <td>0.0</td>\n",
              "      <td>[50.0, 0.0, 0.0]</td>\n",
              "      <td>[1.0, 0.0, 0.0]</td>\n",
              "      <td>0.0</td>\n",
              "    </tr>\n",
              "    <tr>\n",
              "      <th>2</th>\n",
              "      <td>4.7</td>\n",
              "      <td>3.2</td>\n",
              "      <td>1.3</td>\n",
              "      <td>0.2</td>\n",
              "      <td>Iris-setosa</td>\n",
              "      <td>[4.7, 3.2, 1.3, 0.2]</td>\n",
              "      <td>0.0</td>\n",
              "      <td>[50.0, 0.0, 0.0]</td>\n",
              "      <td>[1.0, 0.0, 0.0]</td>\n",
              "      <td>0.0</td>\n",
              "    </tr>\n",
              "    <tr>\n",
              "      <th>3</th>\n",
              "      <td>4.6</td>\n",
              "      <td>3.1</td>\n",
              "      <td>1.5</td>\n",
              "      <td>0.2</td>\n",
              "      <td>Iris-setosa</td>\n",
              "      <td>[4.6, 3.1, 1.5, 0.2]</td>\n",
              "      <td>0.0</td>\n",
              "      <td>[50.0, 0.0, 0.0]</td>\n",
              "      <td>[1.0, 0.0, 0.0]</td>\n",
              "      <td>0.0</td>\n",
              "    </tr>\n",
              "    <tr>\n",
              "      <th>4</th>\n",
              "      <td>5.0</td>\n",
              "      <td>3.6</td>\n",
              "      <td>1.4</td>\n",
              "      <td>0.2</td>\n",
              "      <td>Iris-setosa</td>\n",
              "      <td>[5.0, 3.6, 1.4, 0.2]</td>\n",
              "      <td>0.0</td>\n",
              "      <td>[50.0, 0.0, 0.0]</td>\n",
              "      <td>[1.0, 0.0, 0.0]</td>\n",
              "      <td>0.0</td>\n",
              "    </tr>\n",
              "  </tbody>\n",
              "</table>\n",
              "</div>"
            ],
            "text/plain": [
              "   sepal_length  sepal_width  ...      probability  prediction\n",
              "0           5.1          3.5  ...  [1.0, 0.0, 0.0]         0.0\n",
              "1           4.9          3.0  ...  [1.0, 0.0, 0.0]         0.0\n",
              "2           4.7          3.2  ...  [1.0, 0.0, 0.0]         0.0\n",
              "3           4.6          3.1  ...  [1.0, 0.0, 0.0]         0.0\n",
              "4           5.0          3.6  ...  [1.0, 0.0, 0.0]         0.0\n",
              "\n",
              "[5 rows x 10 columns]"
            ]
          },
          "metadata": {},
          "execution_count": 52
        }
      ]
    },
    {
      "cell_type": "code",
      "metadata": {
        "colab": {
          "base_uri": "https://localhost:8080/",
          "height": 202
        },
        "id": "5lXnVBGPNfDb",
        "outputId": "8e16c977-0d44-4173-cffc-bf946e98ae31"
      },
      "source": [
        "iris_w_pred_class = index2string.transform(iris_w_pred)\n",
        "\n",
        "iris_w_pred_class.limit(5).toPandas()"
      ],
      "execution_count": null,
      "outputs": [
        {
          "output_type": "execute_result",
          "data": {
            "text/html": [
              "<div>\n",
              "<style scoped>\n",
              "    .dataframe tbody tr th:only-of-type {\n",
              "        vertical-align: middle;\n",
              "    }\n",
              "\n",
              "    .dataframe tbody tr th {\n",
              "        vertical-align: top;\n",
              "    }\n",
              "\n",
              "    .dataframe thead th {\n",
              "        text-align: right;\n",
              "    }\n",
              "</style>\n",
              "<table border=\"1\" class=\"dataframe\">\n",
              "  <thead>\n",
              "    <tr style=\"text-align: right;\">\n",
              "      <th></th>\n",
              "      <th>sepal_length</th>\n",
              "      <th>sepal_width</th>\n",
              "      <th>petal_length</th>\n",
              "      <th>petal_width</th>\n",
              "      <th>class</th>\n",
              "      <th>features</th>\n",
              "      <th>class_ix</th>\n",
              "      <th>rawPrediction</th>\n",
              "      <th>probability</th>\n",
              "      <th>prediction</th>\n",
              "      <th>pred_class</th>\n",
              "    </tr>\n",
              "  </thead>\n",
              "  <tbody>\n",
              "    <tr>\n",
              "      <th>0</th>\n",
              "      <td>5.1</td>\n",
              "      <td>3.5</td>\n",
              "      <td>1.4</td>\n",
              "      <td>0.2</td>\n",
              "      <td>Iris-setosa</td>\n",
              "      <td>[5.1, 3.5, 1.4, 0.2]</td>\n",
              "      <td>0.0</td>\n",
              "      <td>[50.0, 0.0, 0.0]</td>\n",
              "      <td>[1.0, 0.0, 0.0]</td>\n",
              "      <td>0.0</td>\n",
              "      <td>Iris-setosa</td>\n",
              "    </tr>\n",
              "    <tr>\n",
              "      <th>1</th>\n",
              "      <td>4.9</td>\n",
              "      <td>3.0</td>\n",
              "      <td>1.4</td>\n",
              "      <td>0.2</td>\n",
              "      <td>Iris-setosa</td>\n",
              "      <td>[4.9, 3.0, 1.4, 0.2]</td>\n",
              "      <td>0.0</td>\n",
              "      <td>[50.0, 0.0, 0.0]</td>\n",
              "      <td>[1.0, 0.0, 0.0]</td>\n",
              "      <td>0.0</td>\n",
              "      <td>Iris-setosa</td>\n",
              "    </tr>\n",
              "    <tr>\n",
              "      <th>2</th>\n",
              "      <td>4.7</td>\n",
              "      <td>3.2</td>\n",
              "      <td>1.3</td>\n",
              "      <td>0.2</td>\n",
              "      <td>Iris-setosa</td>\n",
              "      <td>[4.7, 3.2, 1.3, 0.2]</td>\n",
              "      <td>0.0</td>\n",
              "      <td>[50.0, 0.0, 0.0]</td>\n",
              "      <td>[1.0, 0.0, 0.0]</td>\n",
              "      <td>0.0</td>\n",
              "      <td>Iris-setosa</td>\n",
              "    </tr>\n",
              "    <tr>\n",
              "      <th>3</th>\n",
              "      <td>4.6</td>\n",
              "      <td>3.1</td>\n",
              "      <td>1.5</td>\n",
              "      <td>0.2</td>\n",
              "      <td>Iris-setosa</td>\n",
              "      <td>[4.6, 3.1, 1.5, 0.2]</td>\n",
              "      <td>0.0</td>\n",
              "      <td>[50.0, 0.0, 0.0]</td>\n",
              "      <td>[1.0, 0.0, 0.0]</td>\n",
              "      <td>0.0</td>\n",
              "      <td>Iris-setosa</td>\n",
              "    </tr>\n",
              "    <tr>\n",
              "      <th>4</th>\n",
              "      <td>5.0</td>\n",
              "      <td>3.6</td>\n",
              "      <td>1.4</td>\n",
              "      <td>0.2</td>\n",
              "      <td>Iris-setosa</td>\n",
              "      <td>[5.0, 3.6, 1.4, 0.2]</td>\n",
              "      <td>0.0</td>\n",
              "      <td>[50.0, 0.0, 0.0]</td>\n",
              "      <td>[1.0, 0.0, 0.0]</td>\n",
              "      <td>0.0</td>\n",
              "      <td>Iris-setosa</td>\n",
              "    </tr>\n",
              "  </tbody>\n",
              "</table>\n",
              "</div>"
            ],
            "text/plain": [
              "   sepal_length  sepal_width  ...  prediction   pred_class\n",
              "0           5.1          3.5  ...         0.0  Iris-setosa\n",
              "1           4.9          3.0  ...         0.0  Iris-setosa\n",
              "2           4.7          3.2  ...         0.0  Iris-setosa\n",
              "3           4.6          3.1  ...         0.0  Iris-setosa\n",
              "4           5.0          3.6  ...         0.0  Iris-setosa\n",
              "\n",
              "[5 rows x 11 columns]"
            ]
          },
          "metadata": {},
          "execution_count": 53
        }
      ]
    },
    {
      "cell_type": "code",
      "metadata": {
        "colab": {
          "base_uri": "https://localhost:8080/"
        },
        "id": "eQ9pOMsBNmJt",
        "outputId": "6d52fae2-4abd-467a-9f25-97c927e29109"
      },
      "source": [
        "from pyspark.ml.evaluation import MulticlassClassificationEvaluator\n",
        "\n",
        "evaluator = MulticlassClassificationEvaluator(\n",
        "    labelCol='class_ix', \n",
        "    metricName='accuracy'\n",
        ")\n",
        "\n",
        "evaluator.evaluate(iris_w_pred_class)"
      ],
      "execution_count": null,
      "outputs": [
        {
          "output_type": "execute_result",
          "data": {
            "text/plain": [
              "1.0"
            ]
          },
          "metadata": {},
          "execution_count": 54
        }
      ]
    },
    {
      "cell_type": "code",
      "metadata": {
        "colab": {
          "base_uri": "https://localhost:8080/",
          "height": 202
        },
        "id": "qEDoMGcINtGS",
        "outputId": "06ad3ada-6472-498b-a391-d4fbd5d0c0e1"
      },
      "source": [
        "from pyspark.ml import Pipeline\n",
        "\n",
        "pipeline = Pipeline(\n",
        "    stages=[assembler, indexer, dt_clfr, index2string]\n",
        ")\n",
        "\n",
        "pipeline_model = pipeline.fit(iris)\n",
        "\n",
        "pipeline_model.transform(iris).limit(5).toPandas()"
      ],
      "execution_count": null,
      "outputs": [
        {
          "output_type": "execute_result",
          "data": {
            "text/html": [
              "<div>\n",
              "<style scoped>\n",
              "    .dataframe tbody tr th:only-of-type {\n",
              "        vertical-align: middle;\n",
              "    }\n",
              "\n",
              "    .dataframe tbody tr th {\n",
              "        vertical-align: top;\n",
              "    }\n",
              "\n",
              "    .dataframe thead th {\n",
              "        text-align: right;\n",
              "    }\n",
              "</style>\n",
              "<table border=\"1\" class=\"dataframe\">\n",
              "  <thead>\n",
              "    <tr style=\"text-align: right;\">\n",
              "      <th></th>\n",
              "      <th>sepal_length</th>\n",
              "      <th>sepal_width</th>\n",
              "      <th>petal_length</th>\n",
              "      <th>petal_width</th>\n",
              "      <th>class</th>\n",
              "      <th>features</th>\n",
              "      <th>class_ix</th>\n",
              "      <th>rawPrediction</th>\n",
              "      <th>probability</th>\n",
              "      <th>prediction</th>\n",
              "      <th>pred_class</th>\n",
              "    </tr>\n",
              "  </thead>\n",
              "  <tbody>\n",
              "    <tr>\n",
              "      <th>0</th>\n",
              "      <td>5.1</td>\n",
              "      <td>3.5</td>\n",
              "      <td>1.4</td>\n",
              "      <td>0.2</td>\n",
              "      <td>Iris-setosa</td>\n",
              "      <td>[5.1, 3.5, 1.4, 0.2]</td>\n",
              "      <td>0.0</td>\n",
              "      <td>[50.0, 0.0, 0.0]</td>\n",
              "      <td>[1.0, 0.0, 0.0]</td>\n",
              "      <td>0.0</td>\n",
              "      <td>Iris-setosa</td>\n",
              "    </tr>\n",
              "    <tr>\n",
              "      <th>1</th>\n",
              "      <td>4.9</td>\n",
              "      <td>3.0</td>\n",
              "      <td>1.4</td>\n",
              "      <td>0.2</td>\n",
              "      <td>Iris-setosa</td>\n",
              "      <td>[4.9, 3.0, 1.4, 0.2]</td>\n",
              "      <td>0.0</td>\n",
              "      <td>[50.0, 0.0, 0.0]</td>\n",
              "      <td>[1.0, 0.0, 0.0]</td>\n",
              "      <td>0.0</td>\n",
              "      <td>Iris-setosa</td>\n",
              "    </tr>\n",
              "    <tr>\n",
              "      <th>2</th>\n",
              "      <td>4.7</td>\n",
              "      <td>3.2</td>\n",
              "      <td>1.3</td>\n",
              "      <td>0.2</td>\n",
              "      <td>Iris-setosa</td>\n",
              "      <td>[4.7, 3.2, 1.3, 0.2]</td>\n",
              "      <td>0.0</td>\n",
              "      <td>[50.0, 0.0, 0.0]</td>\n",
              "      <td>[1.0, 0.0, 0.0]</td>\n",
              "      <td>0.0</td>\n",
              "      <td>Iris-setosa</td>\n",
              "    </tr>\n",
              "    <tr>\n",
              "      <th>3</th>\n",
              "      <td>4.6</td>\n",
              "      <td>3.1</td>\n",
              "      <td>1.5</td>\n",
              "      <td>0.2</td>\n",
              "      <td>Iris-setosa</td>\n",
              "      <td>[4.6, 3.1, 1.5, 0.2]</td>\n",
              "      <td>0.0</td>\n",
              "      <td>[50.0, 0.0, 0.0]</td>\n",
              "      <td>[1.0, 0.0, 0.0]</td>\n",
              "      <td>0.0</td>\n",
              "      <td>Iris-setosa</td>\n",
              "    </tr>\n",
              "    <tr>\n",
              "      <th>4</th>\n",
              "      <td>5.0</td>\n",
              "      <td>3.6</td>\n",
              "      <td>1.4</td>\n",
              "      <td>0.2</td>\n",
              "      <td>Iris-setosa</td>\n",
              "      <td>[5.0, 3.6, 1.4, 0.2]</td>\n",
              "      <td>0.0</td>\n",
              "      <td>[50.0, 0.0, 0.0]</td>\n",
              "      <td>[1.0, 0.0, 0.0]</td>\n",
              "      <td>0.0</td>\n",
              "      <td>Iris-setosa</td>\n",
              "    </tr>\n",
              "  </tbody>\n",
              "</table>\n",
              "</div>"
            ],
            "text/plain": [
              "   sepal_length  sepal_width  ...  prediction   pred_class\n",
              "0           5.1          3.5  ...         0.0  Iris-setosa\n",
              "1           4.9          3.0  ...         0.0  Iris-setosa\n",
              "2           4.7          3.2  ...         0.0  Iris-setosa\n",
              "3           4.6          3.1  ...         0.0  Iris-setosa\n",
              "4           5.0          3.6  ...         0.0  Iris-setosa\n",
              "\n",
              "[5 rows x 11 columns]"
            ]
          },
          "metadata": {},
          "execution_count": 55
        }
      ]
    },
    {
      "cell_type": "code",
      "metadata": {
        "colab": {
          "base_uri": "https://localhost:8080/"
        },
        "id": "g8yYy236Nxtw",
        "outputId": "383713ff-4587-416b-823f-19ac46e7f0f6"
      },
      "source": [
        "from pyspark.ml.tuning import CrossValidator, ParamGridBuilder\n",
        "\n",
        "param_grid = ParamGridBuilder().\\\n",
        "    addGrid(dt_clfr.maxDepth, [5]).\\\n",
        "    build()\n",
        "    \n",
        "cv = CrossValidator(\n",
        "    estimator=pipeline, \n",
        "    estimatorParamMaps=param_grid,\n",
        "    evaluator=evaluator, \n",
        "    numFolds=3, \n",
        "    seed=123\n",
        ")\n",
        "\n",
        "cv_model = cv.fit(iris)\n",
        "\n",
        "cv_model.avgMetrics"
      ],
      "execution_count": null,
      "outputs": [
        {
          "output_type": "execute_result",
          "data": {
            "text/plain": [
              "[0.9588996659642801]"
            ]
          },
          "metadata": {},
          "execution_count": 56
        }
      ]
    },
    {
      "cell_type": "code",
      "metadata": {
        "colab": {
          "base_uri": "https://localhost:8080/"
        },
        "id": "uOTYGvUZN42I",
        "outputId": "aab4cb79-7364-497d-bf4c-2da5766f13a6"
      },
      "source": [
        "pipeline_model.write().overwrite().save('pipeline.model')\n",
        "\n",
        "! ls pipeline.model/*"
      ],
      "execution_count": null,
      "outputs": [
        {
          "output_type": "stream",
          "name": "stdout",
          "text": [
            "pipeline.model/metadata:\n",
            "part-00000  _SUCCESS\n",
            "\n",
            "pipeline.model/stages:\n",
            "0_VectorAssembler_7fb6426a3c46\t2_DecisionTreeClassifier_ff586f883112\n",
            "1_StringIndexer_59218a251261\t3_IndexToString_6e002a0e449a\n"
          ]
        }
      ]
    }
  ]
}